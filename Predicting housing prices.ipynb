{
 "cells": [
  {
   "cell_type": "markdown",
   "metadata": {},
   "source": [
    "# Linear Regression\n",
    "\n",
    "## Housing Case Study\n",
    "\n",
    "#### Problem Statement:\n",
    "\n",
    "Consider a real estate company that has a dataset containing the prices of properties in the Delhi region. It wishes to use the data to optimise the sale prices of the properties based on important factors such as area, bedrooms, parking, etc.\n",
    "\n",
    "Essentially, the company wants —\n",
    "\n",
    "\n",
    "- To identify the variables affecting house prices, e.g. area, number of rooms, bathrooms, etc.\n",
    "\n",
    "- To create a linear model that quantitatively relates house prices with variables such as number of rooms, area, number of bathrooms, etc.\n",
    "\n",
    "- To know the accuracy of the model, i.e. how well these variables can predict house prices."
   ]
  },
  {
   "cell_type": "markdown",
   "metadata": {},
   "source": [
    "### Step 1: Reading and Understanding the Data\n",
    "Let us first import NumPy and Pandas and read the housing dataset"
   ]
  },
  {
   "cell_type": "code",
   "execution_count": 1,
   "metadata": {},
   "outputs": [],
   "source": [
    "import pandas as pd\n",
    "import numpy as np"
   ]
  },
  {
   "cell_type": "code",
   "execution_count": 2,
   "metadata": {},
   "outputs": [],
   "source": [
    "df= pd.read_csv(r\"C:\\Users\\shubh\\Downloads\\datasets\\Housing.csv\")"
   ]
  },
  {
   "cell_type": "code",
   "execution_count": 3,
   "metadata": {},
   "outputs": [
    {
     "data": {
      "text/html": [
       "<div>\n",
       "<style scoped>\n",
       "    .dataframe tbody tr th:only-of-type {\n",
       "        vertical-align: middle;\n",
       "    }\n",
       "\n",
       "    .dataframe tbody tr th {\n",
       "        vertical-align: top;\n",
       "    }\n",
       "\n",
       "    .dataframe thead th {\n",
       "        text-align: right;\n",
       "    }\n",
       "</style>\n",
       "<table border=\"1\" class=\"dataframe\">\n",
       "  <thead>\n",
       "    <tr style=\"text-align: right;\">\n",
       "      <th></th>\n",
       "      <th>price</th>\n",
       "      <th>area</th>\n",
       "      <th>bedrooms</th>\n",
       "      <th>bathrooms</th>\n",
       "      <th>stories</th>\n",
       "      <th>mainroad</th>\n",
       "      <th>guestroom</th>\n",
       "      <th>basement</th>\n",
       "      <th>hotwaterheating</th>\n",
       "      <th>airconditioning</th>\n",
       "      <th>parking</th>\n",
       "      <th>prefarea</th>\n",
       "      <th>furnishingstatus</th>\n",
       "    </tr>\n",
       "  </thead>\n",
       "  <tbody>\n",
       "    <tr>\n",
       "      <th>0</th>\n",
       "      <td>13300000</td>\n",
       "      <td>7420</td>\n",
       "      <td>4</td>\n",
       "      <td>2</td>\n",
       "      <td>3</td>\n",
       "      <td>yes</td>\n",
       "      <td>no</td>\n",
       "      <td>no</td>\n",
       "      <td>no</td>\n",
       "      <td>yes</td>\n",
       "      <td>2</td>\n",
       "      <td>yes</td>\n",
       "      <td>furnished</td>\n",
       "    </tr>\n",
       "    <tr>\n",
       "      <th>1</th>\n",
       "      <td>12250000</td>\n",
       "      <td>8960</td>\n",
       "      <td>4</td>\n",
       "      <td>4</td>\n",
       "      <td>4</td>\n",
       "      <td>yes</td>\n",
       "      <td>no</td>\n",
       "      <td>no</td>\n",
       "      <td>no</td>\n",
       "      <td>yes</td>\n",
       "      <td>3</td>\n",
       "      <td>no</td>\n",
       "      <td>furnished</td>\n",
       "    </tr>\n",
       "    <tr>\n",
       "      <th>2</th>\n",
       "      <td>12250000</td>\n",
       "      <td>9960</td>\n",
       "      <td>3</td>\n",
       "      <td>2</td>\n",
       "      <td>2</td>\n",
       "      <td>yes</td>\n",
       "      <td>no</td>\n",
       "      <td>yes</td>\n",
       "      <td>no</td>\n",
       "      <td>no</td>\n",
       "      <td>2</td>\n",
       "      <td>yes</td>\n",
       "      <td>semi-furnished</td>\n",
       "    </tr>\n",
       "    <tr>\n",
       "      <th>3</th>\n",
       "      <td>12215000</td>\n",
       "      <td>7500</td>\n",
       "      <td>4</td>\n",
       "      <td>2</td>\n",
       "      <td>2</td>\n",
       "      <td>yes</td>\n",
       "      <td>no</td>\n",
       "      <td>yes</td>\n",
       "      <td>no</td>\n",
       "      <td>yes</td>\n",
       "      <td>3</td>\n",
       "      <td>yes</td>\n",
       "      <td>furnished</td>\n",
       "    </tr>\n",
       "    <tr>\n",
       "      <th>4</th>\n",
       "      <td>11410000</td>\n",
       "      <td>7420</td>\n",
       "      <td>4</td>\n",
       "      <td>1</td>\n",
       "      <td>2</td>\n",
       "      <td>yes</td>\n",
       "      <td>yes</td>\n",
       "      <td>yes</td>\n",
       "      <td>no</td>\n",
       "      <td>yes</td>\n",
       "      <td>2</td>\n",
       "      <td>no</td>\n",
       "      <td>furnished</td>\n",
       "    </tr>\n",
       "  </tbody>\n",
       "</table>\n",
       "</div>"
      ],
      "text/plain": [
       "      price  area  bedrooms  bathrooms  stories mainroad guestroom basement  \\\n",
       "0  13300000  7420         4          2        3      yes        no       no   \n",
       "1  12250000  8960         4          4        4      yes        no       no   \n",
       "2  12250000  9960         3          2        2      yes        no      yes   \n",
       "3  12215000  7500         4          2        2      yes        no      yes   \n",
       "4  11410000  7420         4          1        2      yes       yes      yes   \n",
       "\n",
       "  hotwaterheating airconditioning  parking prefarea furnishingstatus  \n",
       "0              no             yes        2      yes        furnished  \n",
       "1              no             yes        3       no        furnished  \n",
       "2              no              no        2      yes   semi-furnished  \n",
       "3              no             yes        3      yes        furnished  \n",
       "4              no             yes        2       no        furnished  "
      ]
     },
     "execution_count": 3,
     "metadata": {},
     "output_type": "execute_result"
    }
   ],
   "source": [
    "# Check the head of the dataset\n",
    "df.head()"
   ]
  },
  {
   "cell_type": "code",
   "execution_count": 4,
   "metadata": {},
   "outputs": [
    {
     "data": {
      "text/plain": [
       "(545, 13)"
      ]
     },
     "execution_count": 4,
     "metadata": {},
     "output_type": "execute_result"
    }
   ],
   "source": [
    "df.shape"
   ]
  },
  {
   "cell_type": "code",
   "execution_count": 5,
   "metadata": {},
   "outputs": [
    {
     "name": "stdout",
     "output_type": "stream",
     "text": [
      "<class 'pandas.core.frame.DataFrame'>\n",
      "RangeIndex: 545 entries, 0 to 544\n",
      "Data columns (total 13 columns):\n",
      "price               545 non-null int64\n",
      "area                545 non-null int64\n",
      "bedrooms            545 non-null int64\n",
      "bathrooms           545 non-null int64\n",
      "stories             545 non-null int64\n",
      "mainroad            545 non-null object\n",
      "guestroom           545 non-null object\n",
      "basement            545 non-null object\n",
      "hotwaterheating     545 non-null object\n",
      "airconditioning     545 non-null object\n",
      "parking             545 non-null int64\n",
      "prefarea            545 non-null object\n",
      "furnishingstatus    545 non-null object\n",
      "dtypes: int64(6), object(7)\n",
      "memory usage: 55.4+ KB\n"
     ]
    }
   ],
   "source": [
    "df.info()"
   ]
  },
  {
   "cell_type": "code",
   "execution_count": 6,
   "metadata": {},
   "outputs": [
    {
     "data": {
      "text/html": [
       "<div>\n",
       "<style scoped>\n",
       "    .dataframe tbody tr th:only-of-type {\n",
       "        vertical-align: middle;\n",
       "    }\n",
       "\n",
       "    .dataframe tbody tr th {\n",
       "        vertical-align: top;\n",
       "    }\n",
       "\n",
       "    .dataframe thead th {\n",
       "        text-align: right;\n",
       "    }\n",
       "</style>\n",
       "<table border=\"1\" class=\"dataframe\">\n",
       "  <thead>\n",
       "    <tr style=\"text-align: right;\">\n",
       "      <th></th>\n",
       "      <th>price</th>\n",
       "      <th>area</th>\n",
       "      <th>bedrooms</th>\n",
       "      <th>bathrooms</th>\n",
       "      <th>stories</th>\n",
       "      <th>parking</th>\n",
       "    </tr>\n",
       "  </thead>\n",
       "  <tbody>\n",
       "    <tr>\n",
       "      <th>count</th>\n",
       "      <td>5.450000e+02</td>\n",
       "      <td>545.000000</td>\n",
       "      <td>545.000000</td>\n",
       "      <td>545.000000</td>\n",
       "      <td>545.000000</td>\n",
       "      <td>545.000000</td>\n",
       "    </tr>\n",
       "    <tr>\n",
       "      <th>mean</th>\n",
       "      <td>4.766729e+06</td>\n",
       "      <td>5150.541284</td>\n",
       "      <td>2.965138</td>\n",
       "      <td>1.286239</td>\n",
       "      <td>1.805505</td>\n",
       "      <td>0.693578</td>\n",
       "    </tr>\n",
       "    <tr>\n",
       "      <th>std</th>\n",
       "      <td>1.870440e+06</td>\n",
       "      <td>2170.141023</td>\n",
       "      <td>0.738064</td>\n",
       "      <td>0.502470</td>\n",
       "      <td>0.867492</td>\n",
       "      <td>0.861586</td>\n",
       "    </tr>\n",
       "    <tr>\n",
       "      <th>min</th>\n",
       "      <td>1.750000e+06</td>\n",
       "      <td>1650.000000</td>\n",
       "      <td>1.000000</td>\n",
       "      <td>1.000000</td>\n",
       "      <td>1.000000</td>\n",
       "      <td>0.000000</td>\n",
       "    </tr>\n",
       "    <tr>\n",
       "      <th>25%</th>\n",
       "      <td>3.430000e+06</td>\n",
       "      <td>3600.000000</td>\n",
       "      <td>2.000000</td>\n",
       "      <td>1.000000</td>\n",
       "      <td>1.000000</td>\n",
       "      <td>0.000000</td>\n",
       "    </tr>\n",
       "    <tr>\n",
       "      <th>50%</th>\n",
       "      <td>4.340000e+06</td>\n",
       "      <td>4600.000000</td>\n",
       "      <td>3.000000</td>\n",
       "      <td>1.000000</td>\n",
       "      <td>2.000000</td>\n",
       "      <td>0.000000</td>\n",
       "    </tr>\n",
       "    <tr>\n",
       "      <th>75%</th>\n",
       "      <td>5.740000e+06</td>\n",
       "      <td>6360.000000</td>\n",
       "      <td>3.000000</td>\n",
       "      <td>2.000000</td>\n",
       "      <td>2.000000</td>\n",
       "      <td>1.000000</td>\n",
       "    </tr>\n",
       "    <tr>\n",
       "      <th>max</th>\n",
       "      <td>1.330000e+07</td>\n",
       "      <td>16200.000000</td>\n",
       "      <td>6.000000</td>\n",
       "      <td>4.000000</td>\n",
       "      <td>4.000000</td>\n",
       "      <td>3.000000</td>\n",
       "    </tr>\n",
       "  </tbody>\n",
       "</table>\n",
       "</div>"
      ],
      "text/plain": [
       "              price          area    bedrooms   bathrooms     stories  \\\n",
       "count  5.450000e+02    545.000000  545.000000  545.000000  545.000000   \n",
       "mean   4.766729e+06   5150.541284    2.965138    1.286239    1.805505   \n",
       "std    1.870440e+06   2170.141023    0.738064    0.502470    0.867492   \n",
       "min    1.750000e+06   1650.000000    1.000000    1.000000    1.000000   \n",
       "25%    3.430000e+06   3600.000000    2.000000    1.000000    1.000000   \n",
       "50%    4.340000e+06   4600.000000    3.000000    1.000000    2.000000   \n",
       "75%    5.740000e+06   6360.000000    3.000000    2.000000    2.000000   \n",
       "max    1.330000e+07  16200.000000    6.000000    4.000000    4.000000   \n",
       "\n",
       "          parking  \n",
       "count  545.000000  \n",
       "mean     0.693578  \n",
       "std      0.861586  \n",
       "min      0.000000  \n",
       "25%      0.000000  \n",
       "50%      0.000000  \n",
       "75%      1.000000  \n",
       "max      3.000000  "
      ]
     },
     "execution_count": 6,
     "metadata": {},
     "output_type": "execute_result"
    }
   ],
   "source": [
    "df.describe()"
   ]
  },
  {
   "cell_type": "markdown",
   "metadata": {},
   "source": [
    "### Step 2: Visualising the Data\n",
    "\n",
    "Let's now spend some time in understanding the data.\n",
    "- If there is some obvious multicollinearity going on, this is the first place to catch it\n",
    "- Here's where you'll also identify if some predictors directly have a strong association with the outcome variable (price in our case)\n",
    "\n",
    "We'll visualise our data using `matplotlib` and `seaborn`."
   ]
  },
  {
   "cell_type": "code",
   "execution_count": 7,
   "metadata": {},
   "outputs": [],
   "source": [
    "import matplotlib.pyplot as plt\n",
    "import seaborn as sns"
   ]
  },
  {
   "cell_type": "code",
   "execution_count": 8,
   "metadata": {},
   "outputs": [
    {
     "data": {
      "image/png": "[encoded data removed]",
      "text/plain": [
       "<Figure size 1080x1080 with 42 Axes>"
      ]
     },
     "metadata": {
      "needs_background": "light"
     },
     "output_type": "display_data"
    }
   ],
   "source": [
    "sns.pairplot(df)\n",
    "plt.show()"
   ]
  },
  {
   "cell_type": "markdown",
   "metadata": {},
   "source": [
    "Using the pairplot we can see only the correlation between the price and the area as these are the only numerical variable in our data that takes continuous value whereas the other numerical variables such as \"bedrooms\",\"bathrooms\",\"parking\" only takes discrete values. "
   ]
  },
  {
   "cell_type": "markdown",
   "metadata": {},
   "source": [
    "#### Visualising Categorical Variables\n",
    "\n",
    "There are a few categorical variables as well. Let's make a boxplot for some of these variables."
   ]
  },
  {
   "cell_type": "code",
   "execution_count": 9,
   "metadata": {},
   "outputs": [
    {
     "data": {
      "image/png": "[encoded data removed]",
      "text/plain": [
       "<Figure size 1440x1008 with 6 Axes>"
      ]
     },
     "metadata": {
      "needs_background": "light"
     },
     "output_type": "display_data"
    }
   ],
   "source": [
    "plt.figure(figsize=(20,14))\n",
    "plt.subplot(2,3,1)\n",
    "sns.boxplot(x='guestroom',y='price', data=df)\n",
    "\n",
    "plt.subplot(2,3,2)\n",
    "sns.boxplot(x='basement',y='price',data=df)\n",
    "\n",
    "plt.subplot(2,3,3)\n",
    "sns.boxplot(x='airconditioning',y='price',data=df)\n",
    "\n",
    "plt.subplot(2,3,4)\n",
    "sns.boxplot(x='furnishingstatus',y='price',data=df)\n",
    "\n",
    "plt.subplot(2,3,5)\n",
    "sns.boxplot(x='mainroad',y='price',data=df)\n",
    "\n",
    "plt.subplot(2,3,6)\n",
    "sns.boxplot(x='hotwaterheating',y='price',data=df)\n",
    "plt.show()"
   ]
  },
  {
   "cell_type": "markdown",
   "metadata": {},
   "source": [
    "By observing the boxplots we see that there is quite alot difference between the median housing price with respect to the categorical variables in our dataset."
   ]
  },
  {
   "cell_type": "markdown",
   "metadata": {},
   "source": [
    "We can also visualise some of these categorical features parallely by using the `hue` argument. Below is the plot for `furnishingstatus` with `airconditioning`, `mainroad`, `guestroom` as the hue."
   ]
  },
  {
   "cell_type": "code",
   "execution_count": 10,
   "metadata": {},
   "outputs": [
    {
     "data": {
      "image/png": "[encoded data removed]",
      "text/plain": [
       "<Figure size 1440x432 with 3 Axes>"
      ]
     },
     "metadata": {
      "needs_background": "light"
     },
     "output_type": "display_data"
    }
   ],
   "source": [
    "plt.figure(figsize=(20,6))\n",
    "plt.subplot(1,3,1)\n",
    "sns.boxplot(x='furnishingstatus',y='price',hue='airconditioning',data=df)\n",
    "\n",
    "plt.subplot(1,3,2)\n",
    "sns.boxplot(x='furnishingstatus',y='price',hue='mainroad',data=df)\n",
    "\n",
    "plt.subplot(1,3,3)\n",
    "sns.boxplot(x='furnishingstatus',y='price',hue='guestroom',data=df)\n",
    "plt.show()"
   ]
  },
  {
   "cell_type": "markdown",
   "metadata": {},
   "source": [
    "### Step 3: Data Preparation\n"
   ]
  },
  {
   "cell_type": "markdown",
   "metadata": {},
   "source": [
    "- You can see that your dataset has many columns with values as 'Yes' or 'No'.\n",
    "\n",
    "- But in order to fit a regression line, we would need numerical values and not string. Hence, we need to convert them to 1s and 0s, where 1 is a 'Yes' and 0 is a 'No'."
   ]
  },
  {
   "cell_type": "code",
   "execution_count": 11,
   "metadata": {},
   "outputs": [],
   "source": [
    "# List of variables to map\n",
    "varlist=['mainroad','airconditioning','hotwaterheating','guestroom','basement','prefarea']\n",
    "\n",
    "# Defining the map function\n",
    "def binary_map(x):\n",
    "    return x.map({'yes': 1, 'no':0})\n",
    "\n",
    "# Applying the function to the df list\n",
    "df[varlist]= df[varlist].apply(binary_map)"
   ]
  },
  {
   "cell_type": "code",
   "execution_count": 12,
   "metadata": {},
   "outputs": [
    {
     "data": {
      "text/html": [
       "<div>\n",
       "<style scoped>\n",
       "    .dataframe tbody tr th:only-of-type {\n",
       "        vertical-align: middle;\n",
       "    }\n",
       "\n",
       "    .dataframe tbody tr th {\n",
       "        vertical-align: top;\n",
       "    }\n",
       "\n",
       "    .dataframe thead th {\n",
       "        text-align: right;\n",
       "    }\n",
       "</style>\n",
       "<table border=\"1\" class=\"dataframe\">\n",
       "  <thead>\n",
       "    <tr style=\"text-align: right;\">\n",
       "      <th></th>\n",
       "      <th>price</th>\n",
       "      <th>area</th>\n",
       "      <th>bedrooms</th>\n",
       "      <th>bathrooms</th>\n",
       "      <th>stories</th>\n",
       "      <th>mainroad</th>\n",
       "      <th>guestroom</th>\n",
       "      <th>basement</th>\n",
       "      <th>hotwaterheating</th>\n",
       "      <th>airconditioning</th>\n",
       "      <th>parking</th>\n",
       "      <th>prefarea</th>\n",
       "      <th>furnishingstatus</th>\n",
       "    </tr>\n",
       "  </thead>\n",
       "  <tbody>\n",
       "    <tr>\n",
       "      <th>0</th>\n",
       "      <td>13300000</td>\n",
       "      <td>7420</td>\n",
       "      <td>4</td>\n",
       "      <td>2</td>\n",
       "      <td>3</td>\n",
       "      <td>1</td>\n",
       "      <td>0</td>\n",
       "      <td>0</td>\n",
       "      <td>0</td>\n",
       "      <td>1</td>\n",
       "      <td>2</td>\n",
       "      <td>1</td>\n",
       "      <td>furnished</td>\n",
       "    </tr>\n",
       "    <tr>\n",
       "      <th>1</th>\n",
       "      <td>12250000</td>\n",
       "      <td>8960</td>\n",
       "      <td>4</td>\n",
       "      <td>4</td>\n",
       "      <td>4</td>\n",
       "      <td>1</td>\n",
       "      <td>0</td>\n",
       "      <td>0</td>\n",
       "      <td>0</td>\n",
       "      <td>1</td>\n",
       "      <td>3</td>\n",
       "      <td>0</td>\n",
       "      <td>furnished</td>\n",
       "    </tr>\n",
       "    <tr>\n",
       "      <th>2</th>\n",
       "      <td>12250000</td>\n",
       "      <td>9960</td>\n",
       "      <td>3</td>\n",
       "      <td>2</td>\n",
       "      <td>2</td>\n",
       "      <td>1</td>\n",
       "      <td>0</td>\n",
       "      <td>1</td>\n",
       "      <td>0</td>\n",
       "      <td>0</td>\n",
       "      <td>2</td>\n",
       "      <td>1</td>\n",
       "      <td>semi-furnished</td>\n",
       "    </tr>\n",
       "    <tr>\n",
       "      <th>3</th>\n",
       "      <td>12215000</td>\n",
       "      <td>7500</td>\n",
       "      <td>4</td>\n",
       "      <td>2</td>\n",
       "      <td>2</td>\n",
       "      <td>1</td>\n",
       "      <td>0</td>\n",
       "      <td>1</td>\n",
       "      <td>0</td>\n",
       "      <td>1</td>\n",
       "      <td>3</td>\n",
       "      <td>1</td>\n",
       "      <td>furnished</td>\n",
       "    </tr>\n",
       "    <tr>\n",
       "      <th>4</th>\n",
       "      <td>11410000</td>\n",
       "      <td>7420</td>\n",
       "      <td>4</td>\n",
       "      <td>1</td>\n",
       "      <td>2</td>\n",
       "      <td>1</td>\n",
       "      <td>1</td>\n",
       "      <td>1</td>\n",
       "      <td>0</td>\n",
       "      <td>1</td>\n",
       "      <td>2</td>\n",
       "      <td>0</td>\n",
       "      <td>furnished</td>\n",
       "    </tr>\n",
       "  </tbody>\n",
       "</table>\n",
       "</div>"
      ],
      "text/plain": [
       "      price  area  bedrooms  bathrooms  stories  mainroad  guestroom  \\\n",
       "0  13300000  7420         4          2        3         1          0   \n",
       "1  12250000  8960         4          4        4         1          0   \n",
       "2  12250000  9960         3          2        2         1          0   \n",
       "3  12215000  7500         4          2        2         1          0   \n",
       "4  11410000  7420         4          1        2         1          1   \n",
       "\n",
       "   basement  hotwaterheating  airconditioning  parking  prefarea  \\\n",
       "0         0                0                1        2         1   \n",
       "1         0                0                1        3         0   \n",
       "2         1                0                0        2         1   \n",
       "3         1                0                1        3         1   \n",
       "4         1                0                1        2         0   \n",
       "\n",
       "  furnishingstatus  \n",
       "0        furnished  \n",
       "1        furnished  \n",
       "2   semi-furnished  \n",
       "3        furnished  \n",
       "4        furnished  "
      ]
     },
     "execution_count": 12,
     "metadata": {},
     "output_type": "execute_result"
    }
   ],
   "source": [
    "# Check the housing dataframe now\n",
    "df.head()"
   ]
  },
  {
   "cell_type": "markdown",
   "metadata": {},
   "source": [
    "### Dummy Variables"
   ]
  },
  {
   "cell_type": "markdown",
   "metadata": {},
   "source": [
    "The variable `furnishingstatus` has three levels. We need to convert these levels into integer as well. \n",
    "\n",
    "For this, we will use something called `dummy variables`."
   ]
  },
  {
   "cell_type": "code",
   "execution_count": 13,
   "metadata": {},
   "outputs": [],
   "source": [
    "furnished_status= pd.get_dummies(df['furnishingstatus'], drop_first= True)"
   ]
  },
  {
   "cell_type": "markdown",
   "metadata": {},
   "source": [
    "Now, we droped the furnished column, as the type of furnishing can be identified with just the last two columns where —\n",
    "\n",
    "* 00 will correspond to furnished\n",
    "* 01 will correspond to unfurnished\n",
    "* 10 will correspond to semi-furnished"
   ]
  },
  {
   "cell_type": "code",
   "execution_count": 14,
   "metadata": {},
   "outputs": [],
   "source": [
    "# Add the results to the original housing dataframe\n",
    "\n",
    "df= pd.concat([df,furnished_status], axis=1)"
   ]
  },
  {
   "cell_type": "code",
   "execution_count": 15,
   "metadata": {},
   "outputs": [],
   "source": [
    "# Drop 'furnishingstatus' as we have created the dummies for it\n",
    "\n",
    "df.drop(columns='furnishingstatus',axis=1, inplace=True)"
   ]
  },
  {
   "cell_type": "code",
   "execution_count": 16,
   "metadata": {},
   "outputs": [
    {
     "data": {
      "text/html": [
       "<div>\n",
       "<style scoped>\n",
       "    .dataframe tbody tr th:only-of-type {\n",
       "        vertical-align: middle;\n",
       "    }\n",
       "\n",
       "    .dataframe tbody tr th {\n",
       "        vertical-align: top;\n",
       "    }\n",
       "\n",
       "    .dataframe thead th {\n",
       "        text-align: right;\n",
       "    }\n",
       "</style>\n",
       "<table border=\"1\" class=\"dataframe\">\n",
       "  <thead>\n",
       "    <tr style=\"text-align: right;\">\n",
       "      <th></th>\n",
       "      <th>price</th>\n",
       "      <th>area</th>\n",
       "      <th>bedrooms</th>\n",
       "      <th>bathrooms</th>\n",
       "      <th>stories</th>\n",
       "      <th>mainroad</th>\n",
       "      <th>guestroom</th>\n",
       "      <th>basement</th>\n",
       "      <th>hotwaterheating</th>\n",
       "      <th>airconditioning</th>\n",
       "      <th>parking</th>\n",
       "      <th>prefarea</th>\n",
       "      <th>semi-furnished</th>\n",
       "      <th>unfurnished</th>\n",
       "    </tr>\n",
       "  </thead>\n",
       "  <tbody>\n",
       "    <tr>\n",
       "      <th>0</th>\n",
       "      <td>13300000</td>\n",
       "      <td>7420</td>\n",
       "      <td>4</td>\n",
       "      <td>2</td>\n",
       "      <td>3</td>\n",
       "      <td>1</td>\n",
       "      <td>0</td>\n",
       "      <td>0</td>\n",
       "      <td>0</td>\n",
       "      <td>1</td>\n",
       "      <td>2</td>\n",
       "      <td>1</td>\n",
       "      <td>0</td>\n",
       "      <td>0</td>\n",
       "    </tr>\n",
       "    <tr>\n",
       "      <th>1</th>\n",
       "      <td>12250000</td>\n",
       "      <td>8960</td>\n",
       "      <td>4</td>\n",
       "      <td>4</td>\n",
       "      <td>4</td>\n",
       "      <td>1</td>\n",
       "      <td>0</td>\n",
       "      <td>0</td>\n",
       "      <td>0</td>\n",
       "      <td>1</td>\n",
       "      <td>3</td>\n",
       "      <td>0</td>\n",
       "      <td>0</td>\n",
       "      <td>0</td>\n",
       "    </tr>\n",
       "    <tr>\n",
       "      <th>2</th>\n",
       "      <td>12250000</td>\n",
       "      <td>9960</td>\n",
       "      <td>3</td>\n",
       "      <td>2</td>\n",
       "      <td>2</td>\n",
       "      <td>1</td>\n",
       "      <td>0</td>\n",
       "      <td>1</td>\n",
       "      <td>0</td>\n",
       "      <td>0</td>\n",
       "      <td>2</td>\n",
       "      <td>1</td>\n",
       "      <td>1</td>\n",
       "      <td>0</td>\n",
       "    </tr>\n",
       "    <tr>\n",
       "      <th>3</th>\n",
       "      <td>12215000</td>\n",
       "      <td>7500</td>\n",
       "      <td>4</td>\n",
       "      <td>2</td>\n",
       "      <td>2</td>\n",
       "      <td>1</td>\n",
       "      <td>0</td>\n",
       "      <td>1</td>\n",
       "      <td>0</td>\n",
       "      <td>1</td>\n",
       "      <td>3</td>\n",
       "      <td>1</td>\n",
       "      <td>0</td>\n",
       "      <td>0</td>\n",
       "    </tr>\n",
       "    <tr>\n",
       "      <th>4</th>\n",
       "      <td>11410000</td>\n",
       "      <td>7420</td>\n",
       "      <td>4</td>\n",
       "      <td>1</td>\n",
       "      <td>2</td>\n",
       "      <td>1</td>\n",
       "      <td>1</td>\n",
       "      <td>1</td>\n",
       "      <td>0</td>\n",
       "      <td>1</td>\n",
       "      <td>2</td>\n",
       "      <td>0</td>\n",
       "      <td>0</td>\n",
       "      <td>0</td>\n",
       "    </tr>\n",
       "  </tbody>\n",
       "</table>\n",
       "</div>"
      ],
      "text/plain": [
       "      price  area  bedrooms  bathrooms  stories  mainroad  guestroom  \\\n",
       "0  13300000  7420         4          2        3         1          0   \n",
       "1  12250000  8960         4          4        4         1          0   \n",
       "2  12250000  9960         3          2        2         1          0   \n",
       "3  12215000  7500         4          2        2         1          0   \n",
       "4  11410000  7420         4          1        2         1          1   \n",
       "\n",
       "   basement  hotwaterheating  airconditioning  parking  prefarea  \\\n",
       "0         0                0                1        2         1   \n",
       "1         0                0                1        3         0   \n",
       "2         1                0                0        2         1   \n",
       "3         1                0                1        3         1   \n",
       "4         1                0                1        2         0   \n",
       "\n",
       "   semi-furnished  unfurnished  \n",
       "0               0            0  \n",
       "1               0            0  \n",
       "2               1            0  \n",
       "3               0            0  \n",
       "4               0            0  "
      ]
     },
     "execution_count": 16,
     "metadata": {},
     "output_type": "execute_result"
    }
   ],
   "source": [
    "df.head()"
   ]
  },
  {
   "cell_type": "markdown",
   "metadata": {},
   "source": [
    "### Step 4: Splitting the Data into Training and Testing Sets\n",
    "\n",
    "The first basic step for regression is performing a train-test split."
   ]
  },
  {
   "cell_type": "code",
   "execution_count": 17,
   "metadata": {},
   "outputs": [],
   "source": [
    "from sklearn.model_selection import train_test_split\n",
    "np.random.seed(0)\n",
    "df_train, df_test= train_test_split(df, train_size=0.7, test_size=0.3, random_state=100)"
   ]
  },
  {
   "cell_type": "markdown",
   "metadata": {},
   "source": [
    "#### Rescaling the Features \n",
    "\n",
    "We know that scaling doesn't impact our model. Here we can see that except for `area`, all the columns have small integer values. So it is extremely important to rescale the variables so that they have a comparable scale. If we don't have comparable scales, then some of the coefficients as obtained by fitting the regression model might be very large or very small as compared to the other coefficients. This might become very annoying at the time of model evaluation. So it is advised to use standardization or normalization so that the units of the coefficients obtained are all on the same scale. As you know, there are two common ways of rescaling:\n",
    "\n",
    "1. Min-Max scaling (converts every value in a range of 0 to 1)\n",
    "2. Standardisation (mean-0, sigma-1) (we obtain so neagtive and some positive values with mean = 0)\n",
    "\n",
    "We will use MinMax scaling."
   ]
  },
  {
   "cell_type": "code",
   "execution_count": 18,
   "metadata": {},
   "outputs": [],
   "source": [
    "from sklearn.preprocessing import MinMaxScaler"
   ]
  },
  {
   "cell_type": "code",
   "execution_count": 19,
   "metadata": {},
   "outputs": [],
   "source": [
    "scaler= MinMaxScaler()"
   ]
  },
  {
   "cell_type": "code",
   "execution_count": 20,
   "metadata": {},
   "outputs": [
    {
     "name": "stderr",
     "output_type": "stream",
     "text": [
      "C:\\Users\\shubh\\Anaconda3\\lib\\site-packages\\sklearn\\preprocessing\\data.py:323: DataConversionWarning: Data with input dtype int64 were all converted to float64 by MinMaxScaler.\n",
      "  return self.partial_fit(X, y)\n",
      "C:\\Users\\shubh\\Anaconda3\\lib\\site-packages\\ipykernel_launcher.py:5: SettingWithCopyWarning: \n",
      "A value is trying to be set on a copy of a slice from a DataFrame.\n",
      "Try using .loc[row_indexer,col_indexer] = value instead\n",
      "\n",
      "See the caveats in the documentation: http://pandas.pydata.org/pandas-docs/stable/indexing.html#indexing-view-versus-copy\n",
      "  \"\"\"\n",
      "C:\\Users\\shubh\\Anaconda3\\lib\\site-packages\\pandas\\core\\indexing.py:543: SettingWithCopyWarning: \n",
      "A value is trying to be set on a copy of a slice from a DataFrame.\n",
      "Try using .loc[row_indexer,col_indexer] = value instead\n",
      "\n",
      "See the caveats in the documentation: http://pandas.pydata.org/pandas-docs/stable/indexing.html#indexing-view-versus-copy\n",
      "  self.obj[item] = s\n"
     ]
    }
   ],
   "source": [
    "# Apply scaler() to all the columns except the 'yes-no' and 'dummy' variables\n",
    "\n",
    "num_vars = ['area', 'bedrooms', 'bathrooms', 'stories', 'parking','price']\n",
    "\n",
    "df_train[num_vars]= scaler.fit_transform(df_train[num_vars])"
   ]
  },
  {
   "cell_type": "code",
   "execution_count": 21,
   "metadata": {},
   "outputs": [
    {
     "data": {
      "text/html": [
       "<div>\n",
       "<style scoped>\n",
       "    .dataframe tbody tr th:only-of-type {\n",
       "        vertical-align: middle;\n",
       "    }\n",
       "\n",
       "    .dataframe tbody tr th {\n",
       "        vertical-align: top;\n",
       "    }\n",
       "\n",
       "    .dataframe thead th {\n",
       "        text-align: right;\n",
       "    }\n",
       "</style>\n",
       "<table border=\"1\" class=\"dataframe\">\n",
       "  <thead>\n",
       "    <tr style=\"text-align: right;\">\n",
       "      <th></th>\n",
       "      <th>price</th>\n",
       "      <th>area</th>\n",
       "      <th>bedrooms</th>\n",
       "      <th>bathrooms</th>\n",
       "      <th>stories</th>\n",
       "      <th>mainroad</th>\n",
       "      <th>guestroom</th>\n",
       "      <th>basement</th>\n",
       "      <th>hotwaterheating</th>\n",
       "      <th>airconditioning</th>\n",
       "      <th>parking</th>\n",
       "      <th>prefarea</th>\n",
       "      <th>semi-furnished</th>\n",
       "      <th>unfurnished</th>\n",
       "    </tr>\n",
       "  </thead>\n",
       "  <tbody>\n",
       "    <tr>\n",
       "      <th>359</th>\n",
       "      <td>0.169697</td>\n",
       "      <td>0.155227</td>\n",
       "      <td>0.4</td>\n",
       "      <td>0.0</td>\n",
       "      <td>0.000000</td>\n",
       "      <td>1</td>\n",
       "      <td>0</td>\n",
       "      <td>0</td>\n",
       "      <td>0</td>\n",
       "      <td>0</td>\n",
       "      <td>0.333333</td>\n",
       "      <td>0</td>\n",
       "      <td>0</td>\n",
       "      <td>1</td>\n",
       "    </tr>\n",
       "    <tr>\n",
       "      <th>19</th>\n",
       "      <td>0.615152</td>\n",
       "      <td>0.403379</td>\n",
       "      <td>0.4</td>\n",
       "      <td>0.5</td>\n",
       "      <td>0.333333</td>\n",
       "      <td>1</td>\n",
       "      <td>0</td>\n",
       "      <td>0</td>\n",
       "      <td>0</td>\n",
       "      <td>1</td>\n",
       "      <td>0.333333</td>\n",
       "      <td>1</td>\n",
       "      <td>1</td>\n",
       "      <td>0</td>\n",
       "    </tr>\n",
       "    <tr>\n",
       "      <th>159</th>\n",
       "      <td>0.321212</td>\n",
       "      <td>0.115628</td>\n",
       "      <td>0.4</td>\n",
       "      <td>0.5</td>\n",
       "      <td>0.000000</td>\n",
       "      <td>1</td>\n",
       "      <td>1</td>\n",
       "      <td>1</td>\n",
       "      <td>0</td>\n",
       "      <td>1</td>\n",
       "      <td>0.000000</td>\n",
       "      <td>0</td>\n",
       "      <td>0</td>\n",
       "      <td>0</td>\n",
       "    </tr>\n",
       "    <tr>\n",
       "      <th>35</th>\n",
       "      <td>0.548133</td>\n",
       "      <td>0.454417</td>\n",
       "      <td>0.4</td>\n",
       "      <td>0.5</td>\n",
       "      <td>1.000000</td>\n",
       "      <td>1</td>\n",
       "      <td>0</td>\n",
       "      <td>0</td>\n",
       "      <td>0</td>\n",
       "      <td>1</td>\n",
       "      <td>0.666667</td>\n",
       "      <td>0</td>\n",
       "      <td>0</td>\n",
       "      <td>0</td>\n",
       "    </tr>\n",
       "    <tr>\n",
       "      <th>28</th>\n",
       "      <td>0.575758</td>\n",
       "      <td>0.538015</td>\n",
       "      <td>0.8</td>\n",
       "      <td>0.5</td>\n",
       "      <td>0.333333</td>\n",
       "      <td>1</td>\n",
       "      <td>0</td>\n",
       "      <td>1</td>\n",
       "      <td>1</td>\n",
       "      <td>0</td>\n",
       "      <td>0.666667</td>\n",
       "      <td>0</td>\n",
       "      <td>0</td>\n",
       "      <td>1</td>\n",
       "    </tr>\n",
       "  </tbody>\n",
       "</table>\n",
       "</div>"
      ],
      "text/plain": [
       "        price      area  bedrooms  bathrooms   stories  mainroad  guestroom  \\\n",
       "359  0.169697  0.155227       0.4        0.0  0.000000         1          0   \n",
       "19   0.615152  0.403379       0.4        0.5  0.333333         1          0   \n",
       "159  0.321212  0.115628       0.4        0.5  0.000000         1          1   \n",
       "35   0.548133  0.454417       0.4        0.5  1.000000         1          0   \n",
       "28   0.575758  0.538015       0.8        0.5  0.333333         1          0   \n",
       "\n",
       "     basement  hotwaterheating  airconditioning   parking  prefarea  \\\n",
       "359         0                0                0  0.333333         0   \n",
       "19          0                0                1  0.333333         1   \n",
       "159         1                0                1  0.000000         0   \n",
       "35          0                0                1  0.666667         0   \n",
       "28          1                1                0  0.666667         0   \n",
       "\n",
       "     semi-furnished  unfurnished  \n",
       "359               0            1  \n",
       "19                1            0  \n",
       "159               0            0  \n",
       "35                0            0  \n",
       "28                0            1  "
      ]
     },
     "execution_count": 21,
     "metadata": {},
     "output_type": "execute_result"
    }
   ],
   "source": [
    "df_train.head()"
   ]
  },
  {
   "cell_type": "code",
   "execution_count": 22,
   "metadata": {},
   "outputs": [
    {
     "data": {
      "text/html": [
       "<div>\n",
       "<style scoped>\n",
       "    .dataframe tbody tr th:only-of-type {\n",
       "        vertical-align: middle;\n",
       "    }\n",
       "\n",
       "    .dataframe tbody tr th {\n",
       "        vertical-align: top;\n",
       "    }\n",
       "\n",
       "    .dataframe thead th {\n",
       "        text-align: right;\n",
       "    }\n",
       "</style>\n",
       "<table border=\"1\" class=\"dataframe\">\n",
       "  <thead>\n",
       "    <tr style=\"text-align: right;\">\n",
       "      <th></th>\n",
       "      <th>price</th>\n",
       "      <th>area</th>\n",
       "      <th>bedrooms</th>\n",
       "      <th>bathrooms</th>\n",
       "      <th>stories</th>\n",
       "      <th>mainroad</th>\n",
       "      <th>guestroom</th>\n",
       "      <th>basement</th>\n",
       "      <th>hotwaterheating</th>\n",
       "      <th>airconditioning</th>\n",
       "      <th>parking</th>\n",
       "      <th>prefarea</th>\n",
       "      <th>semi-furnished</th>\n",
       "      <th>unfurnished</th>\n",
       "    </tr>\n",
       "  </thead>\n",
       "  <tbody>\n",
       "    <tr>\n",
       "      <th>count</th>\n",
       "      <td>381.000000</td>\n",
       "      <td>381.000000</td>\n",
       "      <td>381.000000</td>\n",
       "      <td>381.000000</td>\n",
       "      <td>381.000000</td>\n",
       "      <td>381.000000</td>\n",
       "      <td>381.000000</td>\n",
       "      <td>381.000000</td>\n",
       "      <td>381.000000</td>\n",
       "      <td>381.000000</td>\n",
       "      <td>381.000000</td>\n",
       "      <td>381.000000</td>\n",
       "      <td>381.000000</td>\n",
       "      <td>381.000000</td>\n",
       "    </tr>\n",
       "    <tr>\n",
       "      <th>mean</th>\n",
       "      <td>0.260333</td>\n",
       "      <td>0.288710</td>\n",
       "      <td>0.386352</td>\n",
       "      <td>0.136483</td>\n",
       "      <td>0.268591</td>\n",
       "      <td>0.855643</td>\n",
       "      <td>0.170604</td>\n",
       "      <td>0.351706</td>\n",
       "      <td>0.052493</td>\n",
       "      <td>0.299213</td>\n",
       "      <td>0.242345</td>\n",
       "      <td>0.233596</td>\n",
       "      <td>0.414698</td>\n",
       "      <td>0.325459</td>\n",
       "    </tr>\n",
       "    <tr>\n",
       "      <th>std</th>\n",
       "      <td>0.157607</td>\n",
       "      <td>0.181420</td>\n",
       "      <td>0.147336</td>\n",
       "      <td>0.237325</td>\n",
       "      <td>0.295001</td>\n",
       "      <td>0.351913</td>\n",
       "      <td>0.376657</td>\n",
       "      <td>0.478131</td>\n",
       "      <td>0.223313</td>\n",
       "      <td>0.458515</td>\n",
       "      <td>0.285933</td>\n",
       "      <td>0.423674</td>\n",
       "      <td>0.493318</td>\n",
       "      <td>0.469162</td>\n",
       "    </tr>\n",
       "    <tr>\n",
       "      <th>min</th>\n",
       "      <td>0.000000</td>\n",
       "      <td>0.000000</td>\n",
       "      <td>0.000000</td>\n",
       "      <td>0.000000</td>\n",
       "      <td>0.000000</td>\n",
       "      <td>0.000000</td>\n",
       "      <td>0.000000</td>\n",
       "      <td>0.000000</td>\n",
       "      <td>0.000000</td>\n",
       "      <td>0.000000</td>\n",
       "      <td>0.000000</td>\n",
       "      <td>0.000000</td>\n",
       "      <td>0.000000</td>\n",
       "      <td>0.000000</td>\n",
       "    </tr>\n",
       "    <tr>\n",
       "      <th>25%</th>\n",
       "      <td>0.151515</td>\n",
       "      <td>0.155227</td>\n",
       "      <td>0.200000</td>\n",
       "      <td>0.000000</td>\n",
       "      <td>0.000000</td>\n",
       "      <td>1.000000</td>\n",
       "      <td>0.000000</td>\n",
       "      <td>0.000000</td>\n",
       "      <td>0.000000</td>\n",
       "      <td>0.000000</td>\n",
       "      <td>0.000000</td>\n",
       "      <td>0.000000</td>\n",
       "      <td>0.000000</td>\n",
       "      <td>0.000000</td>\n",
       "    </tr>\n",
       "    <tr>\n",
       "      <th>50%</th>\n",
       "      <td>0.221212</td>\n",
       "      <td>0.234424</td>\n",
       "      <td>0.400000</td>\n",
       "      <td>0.000000</td>\n",
       "      <td>0.333333</td>\n",
       "      <td>1.000000</td>\n",
       "      <td>0.000000</td>\n",
       "      <td>0.000000</td>\n",
       "      <td>0.000000</td>\n",
       "      <td>0.000000</td>\n",
       "      <td>0.000000</td>\n",
       "      <td>0.000000</td>\n",
       "      <td>0.000000</td>\n",
       "      <td>0.000000</td>\n",
       "    </tr>\n",
       "    <tr>\n",
       "      <th>75%</th>\n",
       "      <td>0.345455</td>\n",
       "      <td>0.398099</td>\n",
       "      <td>0.400000</td>\n",
       "      <td>0.500000</td>\n",
       "      <td>0.333333</td>\n",
       "      <td>1.000000</td>\n",
       "      <td>0.000000</td>\n",
       "      <td>1.000000</td>\n",
       "      <td>0.000000</td>\n",
       "      <td>1.000000</td>\n",
       "      <td>0.333333</td>\n",
       "      <td>0.000000</td>\n",
       "      <td>1.000000</td>\n",
       "      <td>1.000000</td>\n",
       "    </tr>\n",
       "    <tr>\n",
       "      <th>max</th>\n",
       "      <td>1.000000</td>\n",
       "      <td>1.000000</td>\n",
       "      <td>1.000000</td>\n",
       "      <td>1.000000</td>\n",
       "      <td>1.000000</td>\n",
       "      <td>1.000000</td>\n",
       "      <td>1.000000</td>\n",
       "      <td>1.000000</td>\n",
       "      <td>1.000000</td>\n",
       "      <td>1.000000</td>\n",
       "      <td>1.000000</td>\n",
       "      <td>1.000000</td>\n",
       "      <td>1.000000</td>\n",
       "      <td>1.000000</td>\n",
       "    </tr>\n",
       "  </tbody>\n",
       "</table>\n",
       "</div>"
      ],
      "text/plain": [
       "            price        area    bedrooms   bathrooms     stories    mainroad  \\\n",
       "count  381.000000  381.000000  381.000000  381.000000  381.000000  381.000000   \n",
       "mean     0.260333    0.288710    0.386352    0.136483    0.268591    0.855643   \n",
       "std      0.157607    0.181420    0.147336    0.237325    0.295001    0.351913   \n",
       "min      0.000000    0.000000    0.000000    0.000000    0.000000    0.000000   \n",
       "25%      0.151515    0.155227    0.200000    0.000000    0.000000    1.000000   \n",
       "50%      0.221212    0.234424    0.400000    0.000000    0.333333    1.000000   \n",
       "75%      0.345455    0.398099    0.400000    0.500000    0.333333    1.000000   \n",
       "max      1.000000    1.000000    1.000000    1.000000    1.000000    1.000000   \n",
       "\n",
       "        guestroom    basement  hotwaterheating  airconditioning     parking  \\\n",
       "count  381.000000  381.000000       381.000000       381.000000  381.000000   \n",
       "mean     0.170604    0.351706         0.052493         0.299213    0.242345   \n",
       "std      0.376657    0.478131         0.223313         0.458515    0.285933   \n",
       "min      0.000000    0.000000         0.000000         0.000000    0.000000   \n",
       "25%      0.000000    0.000000         0.000000         0.000000    0.000000   \n",
       "50%      0.000000    0.000000         0.000000         0.000000    0.000000   \n",
       "75%      0.000000    1.000000         0.000000         1.000000    0.333333   \n",
       "max      1.000000    1.000000         1.000000         1.000000    1.000000   \n",
       "\n",
       "         prefarea  semi-furnished  unfurnished  \n",
       "count  381.000000      381.000000   381.000000  \n",
       "mean     0.233596        0.414698     0.325459  \n",
       "std      0.423674        0.493318     0.469162  \n",
       "min      0.000000        0.000000     0.000000  \n",
       "25%      0.000000        0.000000     0.000000  \n",
       "50%      0.000000        0.000000     0.000000  \n",
       "75%      0.000000        1.000000     1.000000  \n",
       "max      1.000000        1.000000     1.000000  "
      ]
     },
     "execution_count": 22,
     "metadata": {},
     "output_type": "execute_result"
    }
   ],
   "source": [
    "df_train.describe()"
   ]
  },
  {
   "cell_type": "code",
   "execution_count": 23,
   "metadata": {},
   "outputs": [
    {
     "data": {
      "image/png": "[encoded data removed]",
      "text/plain": [
       "<Figure size 1152x720 with 2 Axes>"
      ]
     },
     "metadata": {
      "needs_background": "light"
     },
     "output_type": "display_data"
    }
   ],
   "source": [
    "# Let's check the correlation coefficients to see which variables are highly correlated\n",
    "\n",
    "plt.figure(figsize = (16, 10))\n",
    "sns.heatmap(df_train.corr(), annot= True,cmap=\"YlGnBu\")\n",
    "plt.show()"
   ]
  },
  {
   "cell_type": "markdown",
   "metadata": {},
   "source": [
    "As you might have noticed, `area` seems to the correlated to `price` the most. Let's see a pairplot for `area` vs `price`."
   ]
  },
  {
   "cell_type": "code",
   "execution_count": 24,
   "metadata": {},
   "outputs": [
    {
     "data": {
      "image/png": "[encoded data removed]",
      "text/plain": [
       "<Figure size 432x432 with 1 Axes>"
      ]
     },
     "metadata": {
      "needs_background": "light"
     },
     "output_type": "display_data"
    }
   ],
   "source": [
    "plt.figure(figsize=(6,6))\n",
    "plt.scatter(x='area', y='price', data= df_train)\n",
    "plt.xlabel('Area', fontsize=12)\n",
    "plt.ylabel('Price')\n",
    "plt.show()"
   ]
  },
  {
   "cell_type": "markdown",
   "metadata": {},
   "source": [
    "So, we pick `area` as the first variable and we'll try to fit a regression line to that."
   ]
  },
  {
   "cell_type": "markdown",
   "metadata": {},
   "source": [
    "#### Dividing into X and Y sets for the model building"
   ]
  },
  {
   "cell_type": "code",
   "execution_count": 25,
   "metadata": {},
   "outputs": [],
   "source": [
    "y_train = df_train.pop('price')\n",
    "X_train = df_train"
   ]
  },
  {
   "cell_type": "markdown",
   "metadata": {},
   "source": [
    "### Step 5: Building a linear model\n",
    "\n",
    "we fit a regression line through the training data using `statsmodels`. In `statsmodels`, we need to explicitly fit a constant using `sm.add_constant(X)` because if we don't perform this step, `statsmodels` fits a regression line passing through the origin, by default."
   ]
  },
  {
   "cell_type": "code",
   "execution_count": 26,
   "metadata": {},
   "outputs": [],
   "source": [
    "import statsmodels.api as sm\n",
    "\n",
    "# Add a constant.\n",
    "X_train_lm= sm.add_constant(X_train[['area']])\n",
    "\n",
    "# Create our first fitted model.\n",
    "lr= sm.OLS(y_train, X_train_lm).fit()"
   ]
  },
  {
   "cell_type": "code",
   "execution_count": 27,
   "metadata": {},
   "outputs": [
    {
     "data": {
      "text/plain": [
       "const    0.126894\n",
       "area     0.462192\n",
       "dtype: float64"
      ]
     },
     "execution_count": 27,
     "metadata": {},
     "output_type": "execute_result"
    }
   ],
   "source": [
    "# Check the parameters obtained\n",
    "lr.params"
   ]
  },
  {
   "cell_type": "code",
   "execution_count": 28,
   "metadata": {},
   "outputs": [
    {
     "name": "stdout",
     "output_type": "stream",
     "text": [
      "                            OLS Regression Results                            \n",
      "==============================================================================\n",
      "Dep. Variable:                  price   R-squared:                       0.283\n",
      "Model:                            OLS   Adj. R-squared:                  0.281\n",
      "Method:                 Least Squares   F-statistic:                     149.6\n",
      "Date:                Sat, 13 Jul 2019   Prob (F-statistic):           3.15e-29\n",
      "Time:                        20:06:45   Log-Likelihood:                 227.23\n",
      "No. Observations:                 381   AIC:                            -450.5\n",
      "Df Residuals:                     379   BIC:                            -442.6\n",
      "Df Model:                           1                                         \n",
      "Covariance Type:            nonrobust                                         \n",
      "==============================================================================\n",
      "                 coef    std err          t      P>|t|      [0.025      0.975]\n",
      "------------------------------------------------------------------------------\n",
      "const          0.1269      0.013      9.853      0.000       0.102       0.152\n",
      "area           0.4622      0.038     12.232      0.000       0.388       0.536\n",
      "==============================================================================\n",
      "Omnibus:                       67.313   Durbin-Watson:                   2.018\n",
      "Prob(Omnibus):                  0.000   Jarque-Bera (JB):              143.063\n",
      "Skew:                           0.925   Prob(JB):                     8.59e-32\n",
      "Kurtosis:                       5.365   Cond. No.                         5.99\n",
      "==============================================================================\n",
      "\n",
      "Warnings:\n",
      "[1] Standard Errors assume that the covariance matrix of the errors is correctly specified.\n"
     ]
    }
   ],
   "source": [
    "print(lr.summary())"
   ]
  },
  {
   "cell_type": "markdown",
   "metadata": {},
   "source": [
    "The R-squared value obtained is 0.283. A value of Durbin-Watson close to 2 indicates that there is no problem of autocorrelation. \n",
    "Since we have so many variables, we can clearly do better than this. So let's go ahead and add a few more variables."
   ]
  },
  {
   "cell_type": "markdown",
   "metadata": {},
   "source": [
    "#### Adding another variable"
   ]
  },
  {
   "cell_type": "markdown",
   "metadata": {},
   "source": [
    "Let's go ahead and add the second most highly correlated variable, i.e. bathrooms."
   ]
  },
  {
   "cell_type": "code",
   "execution_count": 29,
   "metadata": {},
   "outputs": [],
   "source": [
    "# Assign all the feature variables to X\n",
    "X_train_lm= X_train[['area', 'bathrooms']]"
   ]
  },
  {
   "cell_type": "code",
   "execution_count": 30,
   "metadata": {},
   "outputs": [
    {
     "data": {
      "text/plain": [
       "const        0.104589\n",
       "area         0.398396\n",
       "bathrooms    0.298374\n",
       "dtype: float64"
      ]
     },
     "execution_count": 30,
     "metadata": {},
     "output_type": "execute_result"
    }
   ],
   "source": [
    "# Build a linear model\n",
    "\n",
    "X_train_lm = sm.add_constant(X_train_lm)\n",
    "\n",
    "lr =sm.OLS(y_train,X_train_lm).fit()\n",
    "\n",
    "lr.params"
   ]
  },
  {
   "cell_type": "code",
   "execution_count": 31,
   "metadata": {},
   "outputs": [
    {
     "name": "stdout",
     "output_type": "stream",
     "text": [
      "                            OLS Regression Results                            \n",
      "==============================================================================\n",
      "Dep. Variable:                  price   R-squared:                       0.480\n",
      "Model:                            OLS   Adj. R-squared:                  0.477\n",
      "Method:                 Least Squares   F-statistic:                     174.1\n",
      "Date:                Sat, 13 Jul 2019   Prob (F-statistic):           2.51e-54\n",
      "Time:                        20:06:45   Log-Likelihood:                 288.24\n",
      "No. Observations:                 381   AIC:                            -570.5\n",
      "Df Residuals:                     378   BIC:                            -558.6\n",
      "Df Model:                           2                                         \n",
      "Covariance Type:            nonrobust                                         \n",
      "==============================================================================\n",
      "                 coef    std err          t      P>|t|      [0.025      0.975]\n",
      "------------------------------------------------------------------------------\n",
      "const          0.1046      0.011      9.384      0.000       0.083       0.127\n",
      "area           0.3984      0.033     12.192      0.000       0.334       0.463\n",
      "bathrooms      0.2984      0.025     11.945      0.000       0.249       0.347\n",
      "==============================================================================\n",
      "Omnibus:                       62.839   Durbin-Watson:                   2.157\n",
      "Prob(Omnibus):                  0.000   Jarque-Bera (JB):              168.790\n",
      "Skew:                           0.784   Prob(JB):                     2.23e-37\n",
      "Kurtosis:                       5.859   Cond. No.                         6.17\n",
      "==============================================================================\n",
      "\n",
      "Warnings:\n",
      "[1] Standard Errors assume that the covariance matrix of the errors is correctly specified.\n"
     ]
    }
   ],
   "source": [
    "# Check the summary\n",
    "print(lr.summary())"
   ]
  },
  {
   "cell_type": "markdown",
   "metadata": {},
   "source": [
    "We have clearly improved the model as the value of adjusted R-squared as its value has gone up to 0.477 from 0.281. Let's go ahead and add another two variables, `bedrooms` and `parking`"
   ]
  },
  {
   "cell_type": "code",
   "execution_count": 32,
   "metadata": {},
   "outputs": [],
   "source": [
    "X_train_lm= X_train[['area', 'bathrooms','bedrooms','parking']]"
   ]
  },
  {
   "cell_type": "code",
   "execution_count": 33,
   "metadata": {},
   "outputs": [
    {
     "data": {
      "text/plain": [
       "const        0.039609\n",
       "area         0.352318\n",
       "bathrooms    0.254907\n",
       "bedrooms     0.172577\n",
       "parking      0.072378\n",
       "dtype: float64"
      ]
     },
     "execution_count": 33,
     "metadata": {},
     "output_type": "execute_result"
    }
   ],
   "source": [
    "X_train_lm= sm.add_constant(X_train_lm)\n",
    "\n",
    "lr = sm.OLS(y_train, X_train_lm).fit()\n",
    "\n",
    "lr.params"
   ]
  },
  {
   "cell_type": "code",
   "execution_count": 34,
   "metadata": {},
   "outputs": [
    {
     "name": "stdout",
     "output_type": "stream",
     "text": [
      "                            OLS Regression Results                            \n",
      "==============================================================================\n",
      "Dep. Variable:                  price   R-squared:                       0.520\n",
      "Model:                            OLS   Adj. R-squared:                  0.515\n",
      "Method:                 Least Squares   F-statistic:                     101.7\n",
      "Date:                Sat, 13 Jul 2019   Prob (F-statistic):           1.34e-58\n",
      "Time:                        20:06:46   Log-Likelihood:                 303.52\n",
      "No. Observations:                 381   AIC:                            -597.0\n",
      "Df Residuals:                     376   BIC:                            -577.3\n",
      "Df Model:                           4                                         \n",
      "Covariance Type:            nonrobust                                         \n",
      "==============================================================================\n",
      "                 coef    std err          t      P>|t|      [0.025      0.975]\n",
      "------------------------------------------------------------------------------\n",
      "const          0.0396      0.018      2.225      0.027       0.005       0.075\n",
      "area           0.3523      0.034     10.480      0.000       0.286       0.418\n",
      "bathrooms      0.2549      0.026      9.958      0.000       0.205       0.305\n",
      "bedrooms       0.1726      0.041      4.220      0.000       0.092       0.253\n",
      "parking        0.0724      0.021      3.399      0.001       0.031       0.114\n",
      "==============================================================================\n",
      "Omnibus:                       41.938   Durbin-Watson:                   2.151\n",
      "Prob(Omnibus):                  0.000   Jarque-Bera (JB):               91.777\n",
      "Skew:                           0.586   Prob(JB):                     1.18e-20\n",
      "Kurtosis:                       5.100   Cond. No.                         9.13\n",
      "==============================================================================\n",
      "\n",
      "Warnings:\n",
      "[1] Standard Errors assume that the covariance matrix of the errors is correctly specified.\n"
     ]
    }
   ],
   "source": [
    "print(lr.summary())"
   ]
  },
  {
   "cell_type": "markdown",
   "metadata": {},
   "source": [
    "We have improved the adjusted R-squared again. Now let's go ahead and add all the feature variables."
   ]
  },
  {
   "cell_type": "markdown",
   "metadata": {},
   "source": [
    "#### Adding all the variables to the model"
   ]
  },
  {
   "cell_type": "code",
   "execution_count": 35,
   "metadata": {},
   "outputs": [
    {
     "data": {
      "text/plain": [
       "const        0.039609\n",
       "area         0.352318\n",
       "bathrooms    0.254907\n",
       "bedrooms     0.172577\n",
       "parking      0.072378\n",
       "dtype: float64"
      ]
     },
     "execution_count": 35,
     "metadata": {},
     "output_type": "execute_result"
    }
   ],
   "source": [
    "#Build a linear model\n",
    "X_train_lm = sm.add_constant(X_train)\n",
    "\n",
    "lr_1= sm.OLS(y_train, X_train_lm).fit()\n",
    "\n",
    "lr.params"
   ]
  },
  {
   "cell_type": "code",
   "execution_count": 36,
   "metadata": {},
   "outputs": [
    {
     "name": "stdout",
     "output_type": "stream",
     "text": [
      "                            OLS Regression Results                            \n",
      "==============================================================================\n",
      "Dep. Variable:                  price   R-squared:                       0.681\n",
      "Model:                            OLS   Adj. R-squared:                  0.670\n",
      "Method:                 Least Squares   F-statistic:                     60.40\n",
      "Date:                Sat, 13 Jul 2019   Prob (F-statistic):           8.83e-83\n",
      "Time:                        20:06:46   Log-Likelihood:                 381.79\n",
      "No. Observations:                 381   AIC:                            -735.6\n",
      "Df Residuals:                     367   BIC:                            -680.4\n",
      "Df Model:                          13                                         \n",
      "Covariance Type:            nonrobust                                         \n",
      "===================================================================================\n",
      "                      coef    std err          t      P>|t|      [0.025      0.975]\n",
      "-----------------------------------------------------------------------------------\n",
      "const               0.0200      0.021      0.955      0.340      -0.021       0.061\n",
      "area                0.2347      0.030      7.795      0.000       0.175       0.294\n",
      "bedrooms            0.0467      0.037      1.267      0.206      -0.026       0.119\n",
      "bathrooms           0.1908      0.022      8.679      0.000       0.148       0.234\n",
      "stories             0.1085      0.019      5.661      0.000       0.071       0.146\n",
      "mainroad            0.0504      0.014      3.520      0.000       0.022       0.079\n",
      "guestroom           0.0304      0.014      2.233      0.026       0.004       0.057\n",
      "basement            0.0216      0.011      1.943      0.053      -0.000       0.043\n",
      "hotwaterheating     0.0849      0.022      3.934      0.000       0.042       0.127\n",
      "airconditioning     0.0669      0.011      5.899      0.000       0.045       0.089\n",
      "parking             0.0607      0.018      3.365      0.001       0.025       0.096\n",
      "prefarea            0.0594      0.012      5.040      0.000       0.036       0.083\n",
      "semi-furnished      0.0009      0.012      0.078      0.938      -0.022       0.024\n",
      "unfurnished        -0.0310      0.013     -2.440      0.015      -0.056      -0.006\n",
      "==============================================================================\n",
      "Omnibus:                       93.687   Durbin-Watson:                   2.093\n",
      "Prob(Omnibus):                  0.000   Jarque-Bera (JB):              304.917\n",
      "Skew:                           1.091   Prob(JB):                     6.14e-67\n",
      "Kurtosis:                       6.801   Cond. No.                         14.6\n",
      "==============================================================================\n",
      "\n",
      "Warnings:\n",
      "[1] Standard Errors assume that the covariance matrix of the errors is correctly specified.\n"
     ]
    }
   ],
   "source": [
    "print(lr_1.summary())"
   ]
  },
  {
   "cell_type": "markdown",
   "metadata": {},
   "source": [
    "If we Look at the p-values, it looks like some of the variables aren't really significant (in the presence of other variables).\n",
    "\n",
    "Maybe we could drop some?\n",
    "\n",
    "We could simply drop the variable with the highest, non-significant p value. \n",
    "We should always drop variables one by one since our p-values changes at each step  \n",
    "A better way would be to supplement this with the VIF information. "
   ]
  },
  {
   "cell_type": "markdown",
   "metadata": {},
   "source": [
    "#### Checking VIF\n",
    "\n",
    "Variance Inflation Factor or VIF, gives a basic quantitative idea about how much the feature variables are correlated with each other. It is an extremely important parameter to test our linear model. The formula for calculating `VIF` is:\n",
    "\n",
    "#### $ VIF_i = \\frac{1}{1 - {R_i}^2} $"
   ]
  },
  {
   "cell_type": "code",
   "execution_count": 37,
   "metadata": {},
   "outputs": [],
   "source": [
    "# Check for the VIF values of the feature variables.\n",
    "from statsmodels.stats.outliers_influence import variance_inflation_factor"
   ]
  },
  {
   "cell_type": "code",
   "execution_count": 38,
   "metadata": {},
   "outputs": [
    {
     "data": {
      "text/html": [
       "<div>\n",
       "<style scoped>\n",
       "    .dataframe tbody tr th:only-of-type {\n",
       "        vertical-align: middle;\n",
       "    }\n",
       "\n",
       "    .dataframe tbody tr th {\n",
       "        vertical-align: top;\n",
       "    }\n",
       "\n",
       "    .dataframe thead th {\n",
       "        text-align: right;\n",
       "    }\n",
       "</style>\n",
       "<table border=\"1\" class=\"dataframe\">\n",
       "  <thead>\n",
       "    <tr style=\"text-align: right;\">\n",
       "      <th></th>\n",
       "      <th>Features</th>\n",
       "      <th>VIF</th>\n",
       "    </tr>\n",
       "  </thead>\n",
       "  <tbody>\n",
       "    <tr>\n",
       "      <th>1</th>\n",
       "      <td>bedrooms</td>\n",
       "      <td>7.33</td>\n",
       "    </tr>\n",
       "    <tr>\n",
       "      <th>4</th>\n",
       "      <td>mainroad</td>\n",
       "      <td>6.02</td>\n",
       "    </tr>\n",
       "    <tr>\n",
       "      <th>0</th>\n",
       "      <td>area</td>\n",
       "      <td>4.67</td>\n",
       "    </tr>\n",
       "    <tr>\n",
       "      <th>3</th>\n",
       "      <td>stories</td>\n",
       "      <td>2.70</td>\n",
       "    </tr>\n",
       "    <tr>\n",
       "      <th>11</th>\n",
       "      <td>semi-furnished</td>\n",
       "      <td>2.19</td>\n",
       "    </tr>\n",
       "    <tr>\n",
       "      <th>9</th>\n",
       "      <td>parking</td>\n",
       "      <td>2.12</td>\n",
       "    </tr>\n",
       "    <tr>\n",
       "      <th>6</th>\n",
       "      <td>basement</td>\n",
       "      <td>2.02</td>\n",
       "    </tr>\n",
       "    <tr>\n",
       "      <th>12</th>\n",
       "      <td>unfurnished</td>\n",
       "      <td>1.82</td>\n",
       "    </tr>\n",
       "    <tr>\n",
       "      <th>8</th>\n",
       "      <td>airconditioning</td>\n",
       "      <td>1.77</td>\n",
       "    </tr>\n",
       "    <tr>\n",
       "      <th>2</th>\n",
       "      <td>bathrooms</td>\n",
       "      <td>1.67</td>\n",
       "    </tr>\n",
       "    <tr>\n",
       "      <th>10</th>\n",
       "      <td>prefarea</td>\n",
       "      <td>1.51</td>\n",
       "    </tr>\n",
       "    <tr>\n",
       "      <th>5</th>\n",
       "      <td>guestroom</td>\n",
       "      <td>1.47</td>\n",
       "    </tr>\n",
       "    <tr>\n",
       "      <th>7</th>\n",
       "      <td>hotwaterheating</td>\n",
       "      <td>1.14</td>\n",
       "    </tr>\n",
       "  </tbody>\n",
       "</table>\n",
       "</div>"
      ],
      "text/plain": [
       "           Features   VIF\n",
       "1          bedrooms  7.33\n",
       "4          mainroad  6.02\n",
       "0              area  4.67\n",
       "3           stories  2.70\n",
       "11   semi-furnished  2.19\n",
       "9           parking  2.12\n",
       "6          basement  2.02\n",
       "12      unfurnished  1.82\n",
       "8   airconditioning  1.77\n",
       "2         bathrooms  1.67\n",
       "10         prefarea  1.51\n",
       "5         guestroom  1.47\n",
       "7   hotwaterheating  1.14"
      ]
     },
     "execution_count": 38,
     "metadata": {},
     "output_type": "execute_result"
    }
   ],
   "source": [
    "# Create a dataframe that will contain the names of all the feature variables and their respective VIFs\n",
    "\n",
    "vif= pd.DataFrame()\n",
    "vif['Features']= X_train.columns\n",
    "vif['VIF']= [variance_inflation_factor(X_train.values, i) for i in range (X_train.shape[1])]\n",
    "vif['VIF']=round(vif['VIF'],2)\n",
    "vif= vif.sort_values(by=\"VIF\",ascending= False)\n",
    "vif"
   ]
  },
  {
   "cell_type": "markdown",
   "metadata": {},
   "source": [
    "We generally want a VIF that is less than 5. So there are clearly some variables we need to drop."
   ]
  },
  {
   "cell_type": "markdown",
   "metadata": {},
   "source": [
    "#### Dropping the variable and updating the model\n",
    "\n",
    "As you can see from the summary and the VIF dataframe, some variables are still insignificant. One of these variables is, `semi-furnished` as it has a very high p-value of `0.938`. Let's go ahead and drop this variables"
   ]
  },
  {
   "cell_type": "code",
   "execution_count": 39,
   "metadata": {},
   "outputs": [],
   "source": [
    " # Dropping highly correlated variables and insignificant variables\n",
    "    \n",
    "X= X_train.drop('semi-furnished', 1)"
   ]
  },
  {
   "cell_type": "code",
   "execution_count": 40,
   "metadata": {},
   "outputs": [],
   "source": [
    "X_train_lm= sm.add_constant(X)\n",
    "\n",
    "lr_2 = sm.OLS(y_train, X_train_lm).fit()\n"
   ]
  },
  {
   "cell_type": "code",
   "execution_count": 41,
   "metadata": {},
   "outputs": [
    {
     "name": "stdout",
     "output_type": "stream",
     "text": [
      "                            OLS Regression Results                            \n",
      "==============================================================================\n",
      "Dep. Variable:                  price   R-squared:                       0.681\n",
      "Model:                            OLS   Adj. R-squared:                  0.671\n",
      "Method:                 Least Squares   F-statistic:                     65.61\n",
      "Date:                Sat, 13 Jul 2019   Prob (F-statistic):           1.07e-83\n",
      "Time:                        20:06:47   Log-Likelihood:                 381.79\n",
      "No. Observations:                 381   AIC:                            -737.6\n",
      "Df Residuals:                     368   BIC:                            -686.3\n",
      "Df Model:                          12                                         \n",
      "Covariance Type:            nonrobust                                         \n",
      "===================================================================================\n",
      "                      coef    std err          t      P>|t|      [0.025      0.975]\n",
      "-----------------------------------------------------------------------------------\n",
      "const               0.0207      0.019      1.098      0.273      -0.016       0.058\n",
      "area                0.2344      0.030      7.845      0.000       0.176       0.293\n",
      "bedrooms            0.0467      0.037      1.268      0.206      -0.026       0.119\n",
      "bathrooms           0.1909      0.022      8.697      0.000       0.148       0.234\n",
      "stories             0.1085      0.019      5.669      0.000       0.071       0.146\n",
      "mainroad            0.0504      0.014      3.524      0.000       0.022       0.079\n",
      "guestroom           0.0304      0.014      2.238      0.026       0.004       0.057\n",
      "basement            0.0216      0.011      1.946      0.052      -0.000       0.043\n",
      "hotwaterheating     0.0849      0.022      3.941      0.000       0.043       0.127\n",
      "airconditioning     0.0668      0.011      5.923      0.000       0.045       0.089\n",
      "parking             0.0608      0.018      3.372      0.001       0.025       0.096\n",
      "prefarea            0.0594      0.012      5.046      0.000       0.036       0.083\n",
      "unfurnished        -0.0316      0.010     -3.096      0.002      -0.052      -0.012\n",
      "==============================================================================\n",
      "Omnibus:                       93.538   Durbin-Watson:                   2.092\n",
      "Prob(Omnibus):                  0.000   Jarque-Bera (JB):              303.844\n",
      "Skew:                           1.090   Prob(JB):                     1.05e-66\n",
      "Kurtosis:                       6.794   Cond. No.                         14.1\n",
      "==============================================================================\n",
      "\n",
      "Warnings:\n",
      "[1] Standard Errors assume that the covariance matrix of the errors is correctly specified.\n"
     ]
    }
   ],
   "source": [
    "print (lr_2.summary())"
   ]
  },
  {
   "cell_type": "code",
   "execution_count": 42,
   "metadata": {},
   "outputs": [
    {
     "data": {
      "text/html": [
       "<div>\n",
       "<style scoped>\n",
       "    .dataframe tbody tr th:only-of-type {\n",
       "        vertical-align: middle;\n",
       "    }\n",
       "\n",
       "    .dataframe tbody tr th {\n",
       "        vertical-align: top;\n",
       "    }\n",
       "\n",
       "    .dataframe thead th {\n",
       "        text-align: right;\n",
       "    }\n",
       "</style>\n",
       "<table border=\"1\" class=\"dataframe\">\n",
       "  <thead>\n",
       "    <tr style=\"text-align: right;\">\n",
       "      <th></th>\n",
       "      <th>Features</th>\n",
       "      <th>VIF</th>\n",
       "    </tr>\n",
       "  </thead>\n",
       "  <tbody>\n",
       "    <tr>\n",
       "      <th>1</th>\n",
       "      <td>bedrooms</td>\n",
       "      <td>6.59</td>\n",
       "    </tr>\n",
       "    <tr>\n",
       "      <th>4</th>\n",
       "      <td>mainroad</td>\n",
       "      <td>5.68</td>\n",
       "    </tr>\n",
       "    <tr>\n",
       "      <th>0</th>\n",
       "      <td>area</td>\n",
       "      <td>4.67</td>\n",
       "    </tr>\n",
       "    <tr>\n",
       "      <th>3</th>\n",
       "      <td>stories</td>\n",
       "      <td>2.69</td>\n",
       "    </tr>\n",
       "    <tr>\n",
       "      <th>9</th>\n",
       "      <td>parking</td>\n",
       "      <td>2.12</td>\n",
       "    </tr>\n",
       "    <tr>\n",
       "      <th>6</th>\n",
       "      <td>basement</td>\n",
       "      <td>2.01</td>\n",
       "    </tr>\n",
       "    <tr>\n",
       "      <th>8</th>\n",
       "      <td>airconditioning</td>\n",
       "      <td>1.77</td>\n",
       "    </tr>\n",
       "    <tr>\n",
       "      <th>2</th>\n",
       "      <td>bathrooms</td>\n",
       "      <td>1.67</td>\n",
       "    </tr>\n",
       "    <tr>\n",
       "      <th>10</th>\n",
       "      <td>prefarea</td>\n",
       "      <td>1.51</td>\n",
       "    </tr>\n",
       "    <tr>\n",
       "      <th>5</th>\n",
       "      <td>guestroom</td>\n",
       "      <td>1.47</td>\n",
       "    </tr>\n",
       "    <tr>\n",
       "      <th>11</th>\n",
       "      <td>unfurnished</td>\n",
       "      <td>1.40</td>\n",
       "    </tr>\n",
       "    <tr>\n",
       "      <th>7</th>\n",
       "      <td>hotwaterheating</td>\n",
       "      <td>1.14</td>\n",
       "    </tr>\n",
       "  </tbody>\n",
       "</table>\n",
       "</div>"
      ],
      "text/plain": [
       "           Features   VIF\n",
       "1          bedrooms  6.59\n",
       "4          mainroad  5.68\n",
       "0              area  4.67\n",
       "3           stories  2.69\n",
       "9           parking  2.12\n",
       "6          basement  2.01\n",
       "8   airconditioning  1.77\n",
       "2         bathrooms  1.67\n",
       "10         prefarea  1.51\n",
       "5         guestroom  1.47\n",
       "11      unfurnished  1.40\n",
       "7   hotwaterheating  1.14"
      ]
     },
     "execution_count": 42,
     "metadata": {},
     "output_type": "execute_result"
    }
   ],
   "source": [
    "# Checking for VIF again\n",
    "vif= pd.DataFrame()\n",
    "vif['Features']= X.columns\n",
    "vif['VIF']= [variance_inflation_factor(X.values, i) for i in range (X.shape[1])]\n",
    "vif['VIF']=round(vif['VIF'],2)\n",
    "vif= vif.sort_values(by=\"VIF\",ascending= False)\n",
    "vif"
   ]
  },
  {
   "cell_type": "markdown",
   "metadata": {},
   "source": [
    "#### Dropping the Variable and Updating the Model\n",
    "\n",
    "As you can notice some of the variable have high VIF values as well as high p-values. Such variables are insignificant and should be dropped.\n",
    "\n",
    "As you might have noticed, the variable `bedroom` has a significantly high VIF (`6.6`) and a high p-value (`0.206`) as well. Hence, this variable isn't of much use and should be dropped."
   ]
  },
  {
   "cell_type": "code",
   "execution_count": 43,
   "metadata": {},
   "outputs": [],
   "source": [
    "# Dropping highly correlated variables and insignificant variables\n",
    "X= X.drop('bedrooms',1)"
   ]
  },
  {
   "cell_type": "code",
   "execution_count": 44,
   "metadata": {},
   "outputs": [],
   "source": [
    "X_train_lm= sm.add_constant(X)\n",
    "\n",
    "lr_3= sm.OLS(y_train, X_train_lm).fit()"
   ]
  },
  {
   "cell_type": "code",
   "execution_count": 45,
   "metadata": {},
   "outputs": [
    {
     "name": "stdout",
     "output_type": "stream",
     "text": [
      "                            OLS Regression Results                            \n",
      "==============================================================================\n",
      "Dep. Variable:                  price   R-squared:                       0.680\n",
      "Model:                            OLS   Adj. R-squared:                  0.671\n",
      "Method:                 Least Squares   F-statistic:                     71.31\n",
      "Date:                Sat, 13 Jul 2019   Prob (F-statistic):           2.73e-84\n",
      "Time:                        20:06:47   Log-Likelihood:                 380.96\n",
      "No. Observations:                 381   AIC:                            -737.9\n",
      "Df Residuals:                     369   BIC:                            -690.6\n",
      "Df Model:                          11                                         \n",
      "Covariance Type:            nonrobust                                         \n",
      "===================================================================================\n",
      "                      coef    std err          t      P>|t|      [0.025      0.975]\n",
      "-----------------------------------------------------------------------------------\n",
      "const               0.0357      0.015      2.421      0.016       0.007       0.065\n",
      "area                0.2347      0.030      7.851      0.000       0.176       0.294\n",
      "bathrooms           0.1965      0.022      9.132      0.000       0.154       0.239\n",
      "stories             0.1178      0.018      6.654      0.000       0.083       0.153\n",
      "mainroad            0.0488      0.014      3.423      0.001       0.021       0.077\n",
      "guestroom           0.0301      0.014      2.211      0.028       0.003       0.057\n",
      "basement            0.0239      0.011      2.183      0.030       0.002       0.045\n",
      "hotwaterheating     0.0864      0.022      4.014      0.000       0.044       0.129\n",
      "airconditioning     0.0665      0.011      5.895      0.000       0.044       0.089\n",
      "parking             0.0629      0.018      3.501      0.001       0.028       0.098\n",
      "prefarea            0.0596      0.012      5.061      0.000       0.036       0.083\n",
      "unfurnished        -0.0323      0.010     -3.169      0.002      -0.052      -0.012\n",
      "==============================================================================\n",
      "Omnibus:                       97.661   Durbin-Watson:                   2.097\n",
      "Prob(Omnibus):                  0.000   Jarque-Bera (JB):              325.388\n",
      "Skew:                           1.130   Prob(JB):                     2.20e-71\n",
      "Kurtosis:                       6.923   Cond. No.                         10.6\n",
      "==============================================================================\n",
      "\n",
      "Warnings:\n",
      "[1] Standard Errors assume that the covariance matrix of the errors is correctly specified.\n"
     ]
    }
   ],
   "source": [
    "print(lr_3.summary())"
   ]
  },
  {
   "cell_type": "code",
   "execution_count": 46,
   "metadata": {},
   "outputs": [
    {
     "data": {
      "text/html": [
       "<div>\n",
       "<style scoped>\n",
       "    .dataframe tbody tr th:only-of-type {\n",
       "        vertical-align: middle;\n",
       "    }\n",
       "\n",
       "    .dataframe tbody tr th {\n",
       "        vertical-align: top;\n",
       "    }\n",
       "\n",
       "    .dataframe thead th {\n",
       "        text-align: right;\n",
       "    }\n",
       "</style>\n",
       "<table border=\"1\" class=\"dataframe\">\n",
       "  <thead>\n",
       "    <tr style=\"text-align: right;\">\n",
       "      <th></th>\n",
       "      <th>Features</th>\n",
       "      <th>VIF</th>\n",
       "    </tr>\n",
       "  </thead>\n",
       "  <tbody>\n",
       "    <tr>\n",
       "      <th>3</th>\n",
       "      <td>mainroad</td>\n",
       "      <td>4.79</td>\n",
       "    </tr>\n",
       "    <tr>\n",
       "      <th>0</th>\n",
       "      <td>area</td>\n",
       "      <td>4.55</td>\n",
       "    </tr>\n",
       "    <tr>\n",
       "      <th>2</th>\n",
       "      <td>stories</td>\n",
       "      <td>2.23</td>\n",
       "    </tr>\n",
       "    <tr>\n",
       "      <th>8</th>\n",
       "      <td>parking</td>\n",
       "      <td>2.10</td>\n",
       "    </tr>\n",
       "    <tr>\n",
       "      <th>5</th>\n",
       "      <td>basement</td>\n",
       "      <td>1.87</td>\n",
       "    </tr>\n",
       "    <tr>\n",
       "      <th>7</th>\n",
       "      <td>airconditioning</td>\n",
       "      <td>1.76</td>\n",
       "    </tr>\n",
       "    <tr>\n",
       "      <th>1</th>\n",
       "      <td>bathrooms</td>\n",
       "      <td>1.61</td>\n",
       "    </tr>\n",
       "    <tr>\n",
       "      <th>9</th>\n",
       "      <td>prefarea</td>\n",
       "      <td>1.50</td>\n",
       "    </tr>\n",
       "    <tr>\n",
       "      <th>4</th>\n",
       "      <td>guestroom</td>\n",
       "      <td>1.46</td>\n",
       "    </tr>\n",
       "    <tr>\n",
       "      <th>10</th>\n",
       "      <td>unfurnished</td>\n",
       "      <td>1.33</td>\n",
       "    </tr>\n",
       "    <tr>\n",
       "      <th>6</th>\n",
       "      <td>hotwaterheating</td>\n",
       "      <td>1.12</td>\n",
       "    </tr>\n",
       "  </tbody>\n",
       "</table>\n",
       "</div>"
      ],
      "text/plain": [
       "           Features   VIF\n",
       "3          mainroad  4.79\n",
       "0              area  4.55\n",
       "2           stories  2.23\n",
       "8           parking  2.10\n",
       "5          basement  1.87\n",
       "7   airconditioning  1.76\n",
       "1         bathrooms  1.61\n",
       "9          prefarea  1.50\n",
       "4         guestroom  1.46\n",
       "10      unfurnished  1.33\n",
       "6   hotwaterheating  1.12"
      ]
     },
     "execution_count": 46,
     "metadata": {},
     "output_type": "execute_result"
    }
   ],
   "source": [
    "# Calculate the VIFs again for the new model\n",
    "vif= pd.DataFrame()\n",
    "vif['Features']= X.columns\n",
    "vif['VIF']= [variance_inflation_factor(X.values, i) for i in range (X.shape[1])]\n",
    "vif['VIF']=round(vif['VIF'],2)\n",
    "vif= vif.sort_values(by=\"VIF\",ascending= False)\n",
    "vif"
   ]
  },
  {
   "cell_type": "markdown",
   "metadata": {},
   "source": [
    "#### Dropping the variable and updating the model"
   ]
  },
  {
   "cell_type": "markdown",
   "metadata": {},
   "source": [
    "As you might have noticed, dropping `semi-furnised` decreased the VIF of `mainroad` as well such that it is now under 5. But from the summary, we can still see some of them have a high p-value. `basement` for instance, has a p-value of 0.03. We should drop this variable as well."
   ]
  },
  {
   "cell_type": "code",
   "execution_count": 47,
   "metadata": {},
   "outputs": [],
   "source": [
    "X = X.drop('basement',1)"
   ]
  },
  {
   "cell_type": "code",
   "execution_count": 48,
   "metadata": {},
   "outputs": [],
   "source": [
    "X_train_lm= sm.add_constant(X)\n",
    "\n",
    "lr_4= sm.OLS(y_train, X_train_lm).fit()"
   ]
  },
  {
   "cell_type": "code",
   "execution_count": 49,
   "metadata": {},
   "outputs": [
    {
     "name": "stdout",
     "output_type": "stream",
     "text": [
      "                            OLS Regression Results                            \n",
      "==============================================================================\n",
      "Dep. Variable:                  price   R-squared:                       0.676\n",
      "Model:                            OLS   Adj. R-squared:                  0.667\n",
      "Method:                 Least Squares   F-statistic:                     77.18\n",
      "Date:                Sat, 13 Jul 2019   Prob (F-statistic):           3.13e-84\n",
      "Time:                        20:06:48   Log-Likelihood:                 378.51\n",
      "No. Observations:                 381   AIC:                            -735.0\n",
      "Df Residuals:                     370   BIC:                            -691.7\n",
      "Df Model:                          10                                         \n",
      "Covariance Type:            nonrobust                                         \n",
      "===================================================================================\n",
      "                      coef    std err          t      P>|t|      [0.025      0.975]\n",
      "-----------------------------------------------------------------------------------\n",
      "const               0.0428      0.014      2.958      0.003       0.014       0.071\n",
      "area                0.2335      0.030      7.772      0.000       0.174       0.293\n",
      "bathrooms           0.2019      0.021      9.397      0.000       0.160       0.244\n",
      "stories             0.1081      0.017      6.277      0.000       0.074       0.142\n",
      "mainroad            0.0497      0.014      3.468      0.001       0.022       0.078\n",
      "guestroom           0.0402      0.013      3.124      0.002       0.015       0.065\n",
      "hotwaterheating     0.0876      0.022      4.051      0.000       0.045       0.130\n",
      "airconditioning     0.0682      0.011      6.028      0.000       0.046       0.090\n",
      "parking             0.0629      0.018      3.482      0.001       0.027       0.098\n",
      "prefarea            0.0637      0.012      5.452      0.000       0.041       0.087\n",
      "unfurnished        -0.0337      0.010     -3.295      0.001      -0.054      -0.014\n",
      "==============================================================================\n",
      "Omnibus:                       97.054   Durbin-Watson:                   2.099\n",
      "Prob(Omnibus):                  0.000   Jarque-Bera (JB):              322.034\n",
      "Skew:                           1.124   Prob(JB):                     1.18e-70\n",
      "Kurtosis:                       6.902   Cond. No.                         10.3\n",
      "==============================================================================\n",
      "\n",
      "Warnings:\n",
      "[1] Standard Errors assume that the covariance matrix of the errors is correctly specified.\n"
     ]
    }
   ],
   "source": [
    "print(lr_4.summary())"
   ]
  },
  {
   "cell_type": "code",
   "execution_count": 50,
   "metadata": {},
   "outputs": [
    {
     "data": {
      "text/html": [
       "<div>\n",
       "<style scoped>\n",
       "    .dataframe tbody tr th:only-of-type {\n",
       "        vertical-align: middle;\n",
       "    }\n",
       "\n",
       "    .dataframe tbody tr th {\n",
       "        vertical-align: top;\n",
       "    }\n",
       "\n",
       "    .dataframe thead th {\n",
       "        text-align: right;\n",
       "    }\n",
       "</style>\n",
       "<table border=\"1\" class=\"dataframe\">\n",
       "  <thead>\n",
       "    <tr style=\"text-align: right;\">\n",
       "      <th></th>\n",
       "      <th>Features</th>\n",
       "      <th>VIF</th>\n",
       "    </tr>\n",
       "  </thead>\n",
       "  <tbody>\n",
       "    <tr>\n",
       "      <th>3</th>\n",
       "      <td>mainroad</td>\n",
       "      <td>4.55</td>\n",
       "    </tr>\n",
       "    <tr>\n",
       "      <th>0</th>\n",
       "      <td>area</td>\n",
       "      <td>4.54</td>\n",
       "    </tr>\n",
       "    <tr>\n",
       "      <th>2</th>\n",
       "      <td>stories</td>\n",
       "      <td>2.12</td>\n",
       "    </tr>\n",
       "    <tr>\n",
       "      <th>7</th>\n",
       "      <td>parking</td>\n",
       "      <td>2.10</td>\n",
       "    </tr>\n",
       "    <tr>\n",
       "      <th>6</th>\n",
       "      <td>airconditioning</td>\n",
       "      <td>1.75</td>\n",
       "    </tr>\n",
       "    <tr>\n",
       "      <th>1</th>\n",
       "      <td>bathrooms</td>\n",
       "      <td>1.58</td>\n",
       "    </tr>\n",
       "    <tr>\n",
       "      <th>8</th>\n",
       "      <td>prefarea</td>\n",
       "      <td>1.47</td>\n",
       "    </tr>\n",
       "    <tr>\n",
       "      <th>9</th>\n",
       "      <td>unfurnished</td>\n",
       "      <td>1.33</td>\n",
       "    </tr>\n",
       "    <tr>\n",
       "      <th>4</th>\n",
       "      <td>guestroom</td>\n",
       "      <td>1.30</td>\n",
       "    </tr>\n",
       "    <tr>\n",
       "      <th>5</th>\n",
       "      <td>hotwaterheating</td>\n",
       "      <td>1.12</td>\n",
       "    </tr>\n",
       "  </tbody>\n",
       "</table>\n",
       "</div>"
      ],
      "text/plain": [
       "          Features   VIF\n",
       "3         mainroad  4.55\n",
       "0             area  4.54\n",
       "2          stories  2.12\n",
       "7          parking  2.10\n",
       "6  airconditioning  1.75\n",
       "1        bathrooms  1.58\n",
       "8         prefarea  1.47\n",
       "9      unfurnished  1.33\n",
       "4        guestroom  1.30\n",
       "5  hotwaterheating  1.12"
      ]
     },
     "execution_count": 50,
     "metadata": {},
     "output_type": "execute_result"
    }
   ],
   "source": [
    "# Calculate the VIFs again for the new model\n",
    "vif= pd.DataFrame()\n",
    "vif['Features']= X.columns\n",
    "vif['VIF']= [variance_inflation_factor(X.values, i) for i in range (X.shape[1])]\n",
    "vif['VIF']=round(vif['VIF'],2)\n",
    "vif= vif.sort_values(by=\"VIF\",ascending= False)\n",
    "vif"
   ]
  },
  {
   "cell_type": "markdown",
   "metadata": {},
   "source": [
    "##### Now as you can see, the VIFs and p-values both are within an acceptable range. So we go ahead and make our predictions using this model only."
   ]
  },
  {
   "cell_type": "markdown",
   "metadata": {},
   "source": [
    "### Step 6: Residual Analysis of the train data\n",
    "\n",
    "So, now to check if the error terms are also normally distributed (which is infact, one of the major assumptions of linear regression), let us plot the histogram of the error terms and see what it looks like."
   ]
  },
  {
   "cell_type": "code",
   "execution_count": 51,
   "metadata": {},
   "outputs": [],
   "source": [
    "y_train_price = lr_4.predict(X_train_lm)"
   ]
  },
  {
   "cell_type": "code",
   "execution_count": 52,
   "metadata": {},
   "outputs": [
    {
     "name": "stderr",
     "output_type": "stream",
     "text": [
      "C:\\Users\\shubh\\Anaconda3\\lib\\site-packages\\scipy\\stats\\stats.py:1713: FutureWarning: Using a non-tuple sequence for multidimensional indexing is deprecated; use `arr[tuple(seq)]` instead of `arr[seq]`. In the future this will be interpreted as an array index, `arr[np.array(seq)]`, which will result either in an error or a different result.\n",
      "  return np.add.reduce(sorted[indexer] * weights, axis=axis) / sumval\n"
     ]
    },
    {
     "data": {
      "image/png": "[encoded data removed]",
      "text/plain": [
       "<Figure size 432x288 with 1 Axes>"
      ]
     },
     "metadata": {
      "needs_background": "light"
     },
     "output_type": "display_data"
    }
   ],
   "source": [
    "sns.distplot((y_train - y_train_price),bins=30)\n",
    "plt.title('Distribution of Error Terms', fontsize=24)\n",
    "plt.xlabel('Errors', fontsize= 18)\n",
    "plt.show()"
   ]
  },
  {
   "cell_type": "markdown",
   "metadata": {},
   "source": [
    "We see that the error terms are normally distributed so we can go ahead and make prediction"
   ]
  },
  {
   "cell_type": "markdown",
   "metadata": {},
   "source": [
    "### Step 7: Making Predictions Using the Final Model\n",
    "\n",
    "Now that we have fitted the model and checked the normality of error terms, it's time to go ahead and make predictions using the final, i.e. fourth model."
   ]
  },
  {
   "cell_type": "markdown",
   "metadata": {},
   "source": [
    "#### Applying the scaling on the test sets\n"
   ]
  },
  {
   "cell_type": "code",
   "execution_count": 53,
   "metadata": {},
   "outputs": [
    {
     "name": "stderr",
     "output_type": "stream",
     "text": [
      "C:\\Users\\shubh\\Anaconda3\\lib\\site-packages\\ipykernel_launcher.py:3: SettingWithCopyWarning: \n",
      "A value is trying to be set on a copy of a slice from a DataFrame.\n",
      "Try using .loc[row_indexer,col_indexer] = value instead\n",
      "\n",
      "See the caveats in the documentation: http://pandas.pydata.org/pandas-docs/stable/indexing.html#indexing-view-versus-copy\n",
      "  This is separate from the ipykernel package so we can avoid doing imports until\n",
      "C:\\Users\\shubh\\Anaconda3\\lib\\site-packages\\pandas\\core\\indexing.py:543: SettingWithCopyWarning: \n",
      "A value is trying to be set on a copy of a slice from a DataFrame.\n",
      "Try using .loc[row_indexer,col_indexer] = value instead\n",
      "\n",
      "See the caveats in the documentation: http://pandas.pydata.org/pandas-docs/stable/indexing.html#indexing-view-versus-copy\n",
      "  self.obj[item] = s\n"
     ]
    }
   ],
   "source": [
    "num_vars = ['area', 'bedrooms', 'bathrooms', 'stories', 'parking','price']\n",
    "\n",
    "df_test[num_vars]= scaler.transform(df_test[num_vars])"
   ]
  },
  {
   "cell_type": "code",
   "execution_count": 54,
   "metadata": {},
   "outputs": [
    {
     "data": {
      "text/html": [
       "<div>\n",
       "<style scoped>\n",
       "    .dataframe tbody tr th:only-of-type {\n",
       "        vertical-align: middle;\n",
       "    }\n",
       "\n",
       "    .dataframe tbody tr th {\n",
       "        vertical-align: top;\n",
       "    }\n",
       "\n",
       "    .dataframe thead th {\n",
       "        text-align: right;\n",
       "    }\n",
       "</style>\n",
       "<table border=\"1\" class=\"dataframe\">\n",
       "  <thead>\n",
       "    <tr style=\"text-align: right;\">\n",
       "      <th></th>\n",
       "      <th>price</th>\n",
       "      <th>area</th>\n",
       "      <th>bedrooms</th>\n",
       "      <th>bathrooms</th>\n",
       "      <th>stories</th>\n",
       "      <th>mainroad</th>\n",
       "      <th>guestroom</th>\n",
       "      <th>basement</th>\n",
       "      <th>hotwaterheating</th>\n",
       "      <th>airconditioning</th>\n",
       "      <th>parking</th>\n",
       "      <th>prefarea</th>\n",
       "      <th>semi-furnished</th>\n",
       "      <th>unfurnished</th>\n",
       "    </tr>\n",
       "  </thead>\n",
       "  <tbody>\n",
       "    <tr>\n",
       "      <th>count</th>\n",
       "      <td>164.000000</td>\n",
       "      <td>164.000000</td>\n",
       "      <td>164.000000</td>\n",
       "      <td>164.000000</td>\n",
       "      <td>164.000000</td>\n",
       "      <td>164.000000</td>\n",
       "      <td>164.000000</td>\n",
       "      <td>164.000000</td>\n",
       "      <td>164.000000</td>\n",
       "      <td>164.000000</td>\n",
       "      <td>164.000000</td>\n",
       "      <td>164.000000</td>\n",
       "      <td>164.000000</td>\n",
       "      <td>164.000000</td>\n",
       "    </tr>\n",
       "    <tr>\n",
       "      <th>mean</th>\n",
       "      <td>0.263176</td>\n",
       "      <td>0.298548</td>\n",
       "      <td>0.408537</td>\n",
       "      <td>0.158537</td>\n",
       "      <td>0.268293</td>\n",
       "      <td>0.865854</td>\n",
       "      <td>0.195122</td>\n",
       "      <td>0.347561</td>\n",
       "      <td>0.030488</td>\n",
       "      <td>0.353659</td>\n",
       "      <td>0.205285</td>\n",
       "      <td>0.237805</td>\n",
       "      <td>0.420732</td>\n",
       "      <td>0.329268</td>\n",
       "    </tr>\n",
       "    <tr>\n",
       "      <th>std</th>\n",
       "      <td>0.172077</td>\n",
       "      <td>0.211922</td>\n",
       "      <td>0.147537</td>\n",
       "      <td>0.281081</td>\n",
       "      <td>0.276007</td>\n",
       "      <td>0.341853</td>\n",
       "      <td>0.397508</td>\n",
       "      <td>0.477654</td>\n",
       "      <td>0.172452</td>\n",
       "      <td>0.479569</td>\n",
       "      <td>0.289322</td>\n",
       "      <td>0.427043</td>\n",
       "      <td>0.495189</td>\n",
       "      <td>0.471387</td>\n",
       "    </tr>\n",
       "    <tr>\n",
       "      <th>min</th>\n",
       "      <td>0.006061</td>\n",
       "      <td>-0.016367</td>\n",
       "      <td>0.200000</td>\n",
       "      <td>0.000000</td>\n",
       "      <td>0.000000</td>\n",
       "      <td>0.000000</td>\n",
       "      <td>0.000000</td>\n",
       "      <td>0.000000</td>\n",
       "      <td>0.000000</td>\n",
       "      <td>0.000000</td>\n",
       "      <td>0.000000</td>\n",
       "      <td>0.000000</td>\n",
       "      <td>0.000000</td>\n",
       "      <td>0.000000</td>\n",
       "    </tr>\n",
       "    <tr>\n",
       "      <th>25%</th>\n",
       "      <td>0.142424</td>\n",
       "      <td>0.148011</td>\n",
       "      <td>0.400000</td>\n",
       "      <td>0.000000</td>\n",
       "      <td>0.000000</td>\n",
       "      <td>1.000000</td>\n",
       "      <td>0.000000</td>\n",
       "      <td>0.000000</td>\n",
       "      <td>0.000000</td>\n",
       "      <td>0.000000</td>\n",
       "      <td>0.000000</td>\n",
       "      <td>0.000000</td>\n",
       "      <td>0.000000</td>\n",
       "      <td>0.000000</td>\n",
       "    </tr>\n",
       "    <tr>\n",
       "      <th>50%</th>\n",
       "      <td>0.226061</td>\n",
       "      <td>0.259724</td>\n",
       "      <td>0.400000</td>\n",
       "      <td>0.000000</td>\n",
       "      <td>0.333333</td>\n",
       "      <td>1.000000</td>\n",
       "      <td>0.000000</td>\n",
       "      <td>0.000000</td>\n",
       "      <td>0.000000</td>\n",
       "      <td>0.000000</td>\n",
       "      <td>0.000000</td>\n",
       "      <td>0.000000</td>\n",
       "      <td>0.000000</td>\n",
       "      <td>0.000000</td>\n",
       "    </tr>\n",
       "    <tr>\n",
       "      <th>75%</th>\n",
       "      <td>0.346970</td>\n",
       "      <td>0.397439</td>\n",
       "      <td>0.400000</td>\n",
       "      <td>0.500000</td>\n",
       "      <td>0.333333</td>\n",
       "      <td>1.000000</td>\n",
       "      <td>0.000000</td>\n",
       "      <td>1.000000</td>\n",
       "      <td>0.000000</td>\n",
       "      <td>1.000000</td>\n",
       "      <td>0.333333</td>\n",
       "      <td>0.000000</td>\n",
       "      <td>1.000000</td>\n",
       "      <td>1.000000</td>\n",
       "    </tr>\n",
       "    <tr>\n",
       "      <th>max</th>\n",
       "      <td>0.909091</td>\n",
       "      <td>1.263992</td>\n",
       "      <td>0.800000</td>\n",
       "      <td>1.500000</td>\n",
       "      <td>1.000000</td>\n",
       "      <td>1.000000</td>\n",
       "      <td>1.000000</td>\n",
       "      <td>1.000000</td>\n",
       "      <td>1.000000</td>\n",
       "      <td>1.000000</td>\n",
       "      <td>1.000000</td>\n",
       "      <td>1.000000</td>\n",
       "      <td>1.000000</td>\n",
       "      <td>1.000000</td>\n",
       "    </tr>\n",
       "  </tbody>\n",
       "</table>\n",
       "</div>"
      ],
      "text/plain": [
       "            price        area    bedrooms   bathrooms     stories    mainroad  \\\n",
       "count  164.000000  164.000000  164.000000  164.000000  164.000000  164.000000   \n",
       "mean     0.263176    0.298548    0.408537    0.158537    0.268293    0.865854   \n",
       "std      0.172077    0.211922    0.147537    0.281081    0.276007    0.341853   \n",
       "min      0.006061   -0.016367    0.200000    0.000000    0.000000    0.000000   \n",
       "25%      0.142424    0.148011    0.400000    0.000000    0.000000    1.000000   \n",
       "50%      0.226061    0.259724    0.400000    0.000000    0.333333    1.000000   \n",
       "75%      0.346970    0.397439    0.400000    0.500000    0.333333    1.000000   \n",
       "max      0.909091    1.263992    0.800000    1.500000    1.000000    1.000000   \n",
       "\n",
       "        guestroom    basement  hotwaterheating  airconditioning     parking  \\\n",
       "count  164.000000  164.000000       164.000000       164.000000  164.000000   \n",
       "mean     0.195122    0.347561         0.030488         0.353659    0.205285   \n",
       "std      0.397508    0.477654         0.172452         0.479569    0.289322   \n",
       "min      0.000000    0.000000         0.000000         0.000000    0.000000   \n",
       "25%      0.000000    0.000000         0.000000         0.000000    0.000000   \n",
       "50%      0.000000    0.000000         0.000000         0.000000    0.000000   \n",
       "75%      0.000000    1.000000         0.000000         1.000000    0.333333   \n",
       "max      1.000000    1.000000         1.000000         1.000000    1.000000   \n",
       "\n",
       "         prefarea  semi-furnished  unfurnished  \n",
       "count  164.000000      164.000000   164.000000  \n",
       "mean     0.237805        0.420732     0.329268  \n",
       "std      0.427043        0.495189     0.471387  \n",
       "min      0.000000        0.000000     0.000000  \n",
       "25%      0.000000        0.000000     0.000000  \n",
       "50%      0.000000        0.000000     0.000000  \n",
       "75%      0.000000        1.000000     1.000000  \n",
       "max      1.000000        1.000000     1.000000  "
      ]
     },
     "execution_count": 54,
     "metadata": {},
     "output_type": "execute_result"
    }
   ],
   "source": [
    "df_test.describe()"
   ]
  },
  {
   "cell_type": "markdown",
   "metadata": {},
   "source": [
    "#### Dividing into X_test and y_test"
   ]
  },
  {
   "cell_type": "code",
   "execution_count": 55,
   "metadata": {},
   "outputs": [],
   "source": [
    "y_test= df_test.pop('price')\n",
    "X_test= df_test"
   ]
  },
  {
   "cell_type": "code",
   "execution_count": 56,
   "metadata": {},
   "outputs": [],
   "source": [
    "# Adding constant variable to test dataframe\n",
    "X_test_m4= sm.add_constant(X_test)"
   ]
  },
  {
   "cell_type": "code",
   "execution_count": 57,
   "metadata": {},
   "outputs": [],
   "source": [
    "# Creating X_test_m4 dataframe by dropping variables from X_test_m4\n",
    "\n",
    "X_test_m4 = X_test_m4.drop([\"bedrooms\", \"semi-furnished\", \"basement\"], axis = 1)"
   ]
  },
  {
   "cell_type": "code",
   "execution_count": 58,
   "metadata": {},
   "outputs": [],
   "source": [
    "# Making predictions using the fourth model\n",
    "\n",
    "y_pred_m4 = lr_4.predict(X_test_m4)"
   ]
  },
  {
   "cell_type": "markdown",
   "metadata": {},
   "source": [
    "### Step 8: Model Evaluation\n",
    "\n",
    "Let's now plot the graph for actual versus predicted values."
   ]
  },
  {
   "cell_type": "code",
   "execution_count": 59,
   "metadata": {},
   "outputs": [
    {
     "data": {
      "text/plain": [
       "Text(0, 0.5, 'y_pred')"
      ]
     },
     "execution_count": 59,
     "metadata": {},
     "output_type": "execute_result"
    },
    {
     "data": {
      "image/png": "[encoded data removed]",
      "text/plain": [
       "<Figure size 432x288 with 1 Axes>"
      ]
     },
     "metadata": {
      "needs_background": "light"
     },
     "output_type": "display_data"
    }
   ],
   "source": [
    "fig = plt.figure()\n",
    "plt.scatter(y_test, y_pred_m4)\n",
    "plt.title('y_test vs y_pred', fontsize = 20)              # \n",
    "plt.xlabel('y_test', fontsize = 18)                         \n",
    "plt.ylabel('y_pred', fontsize = 16)"
   ]
  },
  {
   "cell_type": "markdown",
   "metadata": {},
   "source": [
    "\n",
    "We can see that the equation of our best fitted line is:\n",
    "\n",
    "$ price =0.0428+ 0.236  \\times  area + 0.202  \\times  bathrooms + 0.11 \\times stories + 0.05 \\times mainroad + 0.04 \\times guestroom + 0.0876 \\times hotwaterheating + 0.0682 \\times airconditioning + 0.0629 \\times parking + 0.0637 \\times prefarea - 0.0337 \\times unfurnished $\n"
   ]
  }
 ],
 "metadata": {
  "kernelspec": {
   "display_name": "Python 3",
   "language": "python",
   "name": "python3"
  },
  "language_info": {
   "codemirror_mode": {
    "name": "ipython",
    "version": 3
   },
   "file_extension": ".py",
   "mimetype": "text/x-python",
   "name": "python",
   "nbconvert_exporter": "python",
   "pygments_lexer": "ipython3",
   "version": "3.7.1"
  }
 },
 "nbformat": 4,
 "nbformat_minor": 2
}
